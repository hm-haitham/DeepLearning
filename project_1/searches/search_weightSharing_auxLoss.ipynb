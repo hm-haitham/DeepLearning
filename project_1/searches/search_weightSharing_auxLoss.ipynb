{
 "cells": [
  {
   "cell_type": "markdown",
   "metadata": {},
   "source": [
    "# DEEP LEARNING PROJECT 1\n",
    "---"
   ]
  },
  {
   "cell_type": "code",
   "execution_count": 4,
   "metadata": {},
   "outputs": [
    {
     "name": "stdout",
     "output_type": "stream",
     "text": [
      "The autoreload extension is already loaded. To reload it, use:\n",
      "  %reload_ext autoreload\n"
     ]
    },
    {
     "ename": "ModuleNotFoundError",
     "evalue": "No module named 'datasets'",
     "output_type": "error",
     "traceback": [
      "\u001b[0;31m---------------------------------------------------------------------------\u001b[0m",
      "\u001b[0;31mModuleNotFoundError\u001b[0m                       Traceback (most recent call last)",
      "\u001b[0;32m<ipython-input-4-58e4186fc6ee>\u001b[0m in \u001b[0;36m<module>\u001b[0;34m\u001b[0m\n\u001b[1;32m     11\u001b[0m \u001b[0;31m# import helpers\u001b[0m\u001b[0;34m\u001b[0m\u001b[0;34m\u001b[0m\u001b[0;34m\u001b[0m\u001b[0m\n\u001b[1;32m     12\u001b[0m \u001b[0;31m# import ..config\u001b[0m\u001b[0;34m\u001b[0m\u001b[0;34m\u001b[0m\u001b[0;34m\u001b[0m\u001b[0m\n\u001b[0;32m---> 13\u001b[0;31m \u001b[0;32mfrom\u001b[0m \u001b[0mdatasets\u001b[0m \u001b[0;32mimport\u001b[0m \u001b[0mPairDataset\u001b[0m\u001b[0;34m,\u001b[0m \u001b[0mSingleDataset\u001b[0m\u001b[0;34m\u001b[0m\u001b[0;34m\u001b[0m\u001b[0m\n\u001b[0m\u001b[1;32m     14\u001b[0m \u001b[0;34m\u001b[0m\u001b[0m\n\u001b[1;32m     15\u001b[0m \u001b[0;32mfrom\u001b[0m \u001b[0mtrain\u001b[0m\u001b[0;34m.\u001b[0m\u001b[0mtrain\u001b[0m \u001b[0;32mimport\u001b[0m \u001b[0mtrain_basic\u001b[0m\u001b[0;34m\u001b[0m\u001b[0;34m\u001b[0m\u001b[0m\n",
      "\u001b[0;31mModuleNotFoundError\u001b[0m: No module named 'datasets'"
     ]
    }
   ],
   "source": [
    "%load_ext autoreload\n",
    "%autoreload 2 \n",
    "%matplotlib inline\n",
    "\n",
    "import matplotlib.pyplot as plt\n",
    "import torch.nn as nn\n",
    "from torchsummary import summary\n",
    "import torch\n",
    "import torch.utils.data as data\n",
    "\n",
    "# import helpers\n",
    "import ..config\n",
    "from datasets import PairDataset, SingleDataset\n",
    "\n",
    "from train.train import train_basic\n",
    "from train.train import train_siamese\n",
    "\n",
    "from models.basic_net import BasicNet\n",
    "from models.oscar_net import OscarNet\n",
    "from models.desmond_net import DesmondNet\n",
    "from models.robert_net import RobertNet\n",
    "from models.leonard_net import LeonardNet"
   ]
  },
  {
   "cell_type": "markdown",
   "metadata": {},
   "source": [
    "## PARAMETERS"
   ]
  },
  {
   "cell_type": "code",
   "execution_count": null,
   "metadata": {},
   "outputs": [],
   "source": [
    "INPUT_SIZE = (2, 14, 14)\n",
    "\n",
    "LEARNING_RATE = 0.00001\n",
    "SUB_CRITERION = nn.CrossEntropyLoss()\n",
    "FINAL_CRITERION = nn.BCELoss()\n",
    "EPOCHS = 20\n",
    "\n",
    "DEF_NET_HIDDEN_LAYER = 275\n",
    "BASE_CHANNEL_SIZE = 8\n",
    "\n",
    "HIDDEN_LAYERS = [100, 200, 300, 400, 500]\n",
    "NB_HIDDENS = [1, 2, 3, 4, 5]\n",
    "\n",
    "TRAIN_BATCH_SIZE = 1\n",
    "\n",
    "ALPHA = 0.5\n",
    "BETA = 0.25\n",
    "GAMMA = 0.25\n",
    "WEIGHTS_LOSS = ALPHA, BETA, GAMMA"
   ]
  },
  {
   "cell_type": "markdown",
   "metadata": {},
   "source": [
    "## Load Data"
   ]
  },
  {
   "cell_type": "code",
   "execution_count": null,
   "metadata": {},
   "outputs": [],
   "source": [
    "pairs = helpers.generate_pair_sets(config.NB_SAMPLES)\n",
    "\n",
    "train_dataset = PairDataset(pairs[0], pairs[1], pairs[2])\n",
    "train_dataloader = data.DataLoader(dataset=train_dataset, batch_size=TRAIN_BATCH_SIZE, shuffle=True)\n",
    "\n",
    "test_dataset = PairDataset(pairs[3], pairs[4], pairs[5])\n",
    "test_dataloader = data.DataLoader(dataset=test_dataset, batch_size=config.TEST_BATCH_SIZE, shuffle=True)"
   ]
  },
  {
   "cell_type": "markdown",
   "metadata": {},
   "source": [
    "## Model 1: \n",
    "## Siamese/TWO FCNS"
   ]
  },
  {
   "cell_type": "code",
   "execution_count": null,
   "metadata": {},
   "outputs": [],
   "source": [
    "models={}\n",
    "\n",
    "for nb_outer in NB_HIDDENS:\n",
    "    for hidden_outer in HIDDEN_LAYERS:\n",
    "        for nb_inner in NB_HIDDENS:\n",
    "            for hidden_inner in HIDDEN_LAYERS:\n",
    "                inner_model = OscarNet(nb_inner, hidden_inner)\n",
    "                outer_model = LeonardNet(nb_outer, oscars[-1], hidden_outer)\n",
    "                \n",
    "                tr_loss, tr_acc, tr_loss_l, tr_loss_r, te_loss, te_acc, te_loss_l, te_loss_r = train_siamese(model = outer_model,\n",
    "                                     dataloader = train_dataloader,\n",
    "                                     test_dataloader = test_dataloader,\n",
    "                                     epochs = EPOCHS,\n",
    "                                     final_criterion = FINAL_CRITERION, \n",
    "                                     learning_rate = LEARNING_RATE,\n",
    "                                     aux_loss = True,\n",
    "                                     sub_criterion = SUB_CRITERION, \n",
    "                                     weights_loss = WEIGHTS_LOSS)\n",
    "                \n",
    "                run_string = \"{0}_{1}_{2}_{3}\".format(nb_outer, hidden_outer, nb_hidden, hidden_inner)\n",
    "                \n",
    "                models[run_string] = {\n",
    "                    'tr_loss' = tr_loss,\n",
    "                    'tr_acc' = tr_acc,\n",
    "                    'tr_loss_l' = tr_loss_l,\n",
    "                    'tr_loss_r' = tr_loss_r,\n",
    "                    'te_loss' = te_loss,\n",
    "                    'te_acc' = te_acc,\n",
    "                    'te_loss_l' = te_loss_l,\n",
    "                    'te_loss_r' = te_loss_r\n",
    "                }"
   ]
  }
 ],
 "metadata": {
  "kernelspec": {
   "display_name": "Python 3",
   "language": "python",
   "name": "python3"
  },
  "language_info": {
   "codemirror_mode": {
    "name": "ipython",
    "version": 3
   },
   "file_extension": ".py",
   "mimetype": "text/x-python",
   "name": "python",
   "nbconvert_exporter": "python",
   "pygments_lexer": "ipython3",
   "version": "3.7.3"
  }
 },
 "nbformat": 4,
 "nbformat_minor": 2
}
