{
 "cells": [
  {
   "cell_type": "markdown",
   "metadata": {},
   "source": [
    "# DEEP LEARNING PROJECT 1\n",
    "---"
   ]
  },
  {
   "cell_type": "code",
   "execution_count": 1,
   "metadata": {},
   "outputs": [],
   "source": [
    "%load_ext autoreload\n",
    "%autoreload 2 \n",
    "%matplotlib inline\n",
    "\n",
    "import matplotlib.pyplot as plt\n",
    "import torch.nn as nn\n",
    "from torchsummary import summary\n",
    "import torch\n",
    "import torch.utils.data as data"
   ]
  },
  {
   "cell_type": "markdown",
   "metadata": {},
   "source": [
    "## PARAMETERS"
   ]
  },
  {
   "cell_type": "code",
   "execution_count": 2,
   "metadata": {},
   "outputs": [],
   "source": [
    "INPUT_SIZE = (2, 14, 14)\n",
    "\n",
    "import torch.nn as nn\n",
    "import numpy as np\n",
    "\n",
    "NB_SAMPLES = 1000\n",
    "DATA_DIR = './data'\n",
    "\n",
    "NUMBER_OF_CLASSES = 10\n",
    "\n",
    "WIDTH_HEIGHT = 14\n",
    "SINGLE_IMAGE_SIZE = WIDTH_HEIGHT * WIDTH_HEIGHT\n",
    "DOUBLE_IMAGE_SIZE = 2 * SINGLE_IMAGE_SIZE\n",
    "\n",
    "# ----Train Config-----#\n",
    "LEARNING_RATE = 0.001\n",
    "TRAIN_BATCH_SIZE = 5\n",
    "FINAL_CRITERION = nn.BCELoss()\n",
    "EPOCHS = 20\n",
    "\n",
    "# ----Search Config-----#\n",
    "FCNEURONS = [32,64,128, 256,512]\n",
    "NB_LAYERS = [1, 2, 3]\n",
    "\n",
    "#----Test Config-----#\n",
    "TEST_BATCH_SIZE = NB_SAMPLES\n",
    "\n",
    "#----BasicNet Config-----#\n",
    "BASIC_NET_NAME = \"basic_net\"\n",
    "BASIC_NET_HIDDEN_LAYER = 128\n",
    "BASIC_NET_NB_HIDDEN = 1\n",
    "\n",
    "BASIC_BEST_HIDDEN = 0"
   ]
  },
  {
   "cell_type": "markdown",
   "metadata": {},
   "source": [
    "# Helpers"
   ]
  },
  {
   "cell_type": "code",
   "execution_count": 3,
   "metadata": {},
   "outputs": [],
   "source": [
    "############################################# HELPERS ###############################\n",
    "\n",
    "import torch\n",
    "from torchvision import datasets\n",
    "import os\n",
    "import time\n",
    "from pathlib import Path\n",
    "\n",
    "\n",
    "######################################################################\n",
    "# The data\n",
    "\n",
    "def convert_to_one_hot_labels(input, target):\n",
    "    tmp = input.new_zeros(target.size(0), target.max() + 1)\n",
    "    #set ones\n",
    "    tmp.scatter_(1, target.view(-1, 1), 1.0)\n",
    "    return tmp\n",
    "\n",
    "def load_data(cifar = None, one_hot_labels = False, normalize = False, flatten = True):\n",
    "\n",
    "    data_dir = './data'\n",
    "\n",
    "    if (cifar is not None and cifar):\n",
    "        print('* Using CIFAR')\n",
    "        cifar_train_set = datasets.CIFAR10(data_dir + '/cifar10/', train = True, download = True)\n",
    "        cifar_test_set = datasets.CIFAR10(data_dir + '/cifar10/', train = False, download = True)\n",
    "\n",
    "        train_input = torch.from_numpy(cifar_train_set.data)\n",
    "        train_input = train_input.transpose(3, 1).transpose(2, 3).float()\n",
    "        train_target = torch.tensor(cifar_train_set.targets, dtype = torch.int64)\n",
    "\n",
    "        test_input = torch.from_numpy(cifar_test_set.data).float()\n",
    "        test_input = test_input.transpose(3, 1).transpose(2, 3).float()\n",
    "        test_target = torch.tensor(cifar_test_set.targets, dtype = torch.int64)\n",
    "\n",
    "    else:\n",
    "        print('* Using MNIST')\n",
    "        mnist_train_set = datasets.MNIST(data_dir + '/mnist/', train = True, download = True)\n",
    "        mnist_test_set = datasets.MNIST(data_dir + '/mnist/', train = False, download = True)\n",
    "\n",
    "        train_input = mnist_train_set.data.view(-1, 1, 28, 28).float()\n",
    "        train_target = mnist_train_set.targets\n",
    "        test_input = mnist_test_set.data.view(-1, 1, 28, 28).float()\n",
    "        test_target = mnist_test_set.targets\n",
    "\n",
    "    if flatten:\n",
    "        train_input = train_input.clone().reshape(train_input.size(0), -1)\n",
    "        test_input = test_input.clone().reshape(test_input.size(0), -1)\n",
    "        \n",
    "        \n",
    "    train_input = train_input.narrow(0, 0, 1000)\n",
    "    train_target = train_target.narrow(0, 0, 1000)\n",
    "    test_input = test_input.narrow(0, 0, 1000)\n",
    "    test_target = test_target.narrow(0, 0, 1000)\n",
    "\n",
    "    print('** Use {:d} train and {:d} test samples'.format(train_input.size(0), test_input.size(0)))\n",
    "\n",
    "    if one_hot_labels:\n",
    "        train_target = convert_to_one_hot_labels(train_input, train_target)\n",
    "        test_target = convert_to_one_hot_labels(test_input, test_target)\n",
    "\n",
    "    if normalize:\n",
    "        mu, std = train_input.mean(), train_input.std()\n",
    "        train_input.sub_(mu).div_(std)\n",
    "        test_input.sub_(mu).div_(std)\n",
    "\n",
    "    return train_input, train_target, test_input, test_target\n",
    "\n",
    "######################################################################\n",
    "\n",
    "def mnist_to_pairs(nb, input, target):\n",
    "    input = torch.functional.F.avg_pool2d(input, kernel_size = 2)\n",
    "    a = torch.randperm(input.size(0))\n",
    "    a = a[:2 * nb].view(nb, 2)\n",
    "    input = torch.cat((input[a[:, 0]], input[a[:, 1]]), 1)\n",
    "    classes = target[a]\n",
    "    target = (classes[:, 0] <= classes[:, 1]).long()\n",
    "    return input, target, classes\n",
    "\n",
    "######################################################################\n",
    "\n",
    "def generate_pair_sets(nb):\n",
    "\n",
    "    data_dir = DATA_DIR\n",
    "\n",
    "    train_set = datasets.MNIST(data_dir + '/mnist/', train = True, download = True)\n",
    "    train_input = train_set.data.view(-1, 1, 28, 28).float()\n",
    "    train_target = train_set.targets\n",
    "\n",
    "    test_set = datasets.MNIST(data_dir + '/mnist/', train = False, download = True)\n",
    "    test_input = test_set.data.view(-1, 1, 28, 28).float()\n",
    "    test_target = test_set.targets\n",
    "\n",
    "    return mnist_to_pairs(nb, train_input, train_target) + \\\n",
    "           mnist_to_pairs(nb, test_input, test_target)\n",
    "\n",
    "######################################################################\n",
    "\n",
    "######################################################################"
   ]
  },
  {
   "cell_type": "markdown",
   "metadata": {},
   "source": [
    "# Modules"
   ]
  },
  {
   "cell_type": "code",
   "execution_count": 4,
   "metadata": {},
   "outputs": [],
   "source": [
    "import torch.nn as nn\n",
    "import torch\n",
    "from torch.nn import functional as F\n",
    "import math\n",
    "import config\n",
    "\n",
    "class BasicNet(nn.Module):\n",
    "\n",
    "    def __init__(self, nb_hidden_layers, hidden_layer = config.BASIC_NET_HIDDEN_LAYER):\n",
    "        super(BasicNet, self).__init__()\n",
    "        self.model_name = config.BASIC_NET_NAME\n",
    "        \n",
    "        if nb_hidden_layers < 1:\n",
    "            raise Exception(\"Minimum 1 hidden layers for \" + self.model_name)\n",
    "        \n",
    "        self.hiddens = nn.ModuleList([nn.Linear(hidden_layer, hidden_layer) for i in range(nb_hidden_layers-1)])\n",
    "        \n",
    "        self.hiddens.insert(0, nn.Linear(config.DOUBLE_IMAGE_SIZE, hidden_layer))\n",
    "        \n",
    "        self.output = nn.Linear(hidden_layer, 1)\n",
    "\n",
    "    def forward(self, x):\n",
    "        flattened = x.view(x.size(0),-1)\n",
    "        \n",
    "        hid = flattened\n",
    "        \n",
    "        for layer in self.hiddens:\n",
    "            hid = layer(hid)\n",
    "            hid = F.relu(hid)\n",
    "        \n",
    "        out = self.output(hid)\n",
    "        \n",
    "        return torch.sigmoid(out)"
   ]
  },
  {
   "cell_type": "markdown",
   "metadata": {},
   "source": [
    "# Train & Predict"
   ]
  },
  {
   "cell_type": "code",
   "execution_count": 5,
   "metadata": {},
   "outputs": [],
   "source": [
    "import torch\n",
    "import torch.nn as nn\n",
    "import torch.optim as optim\n",
    "import torch.utils.data as data\n",
    "from torch.optim.lr_scheduler import StepLR\n",
    "\n",
    "def train_basic(model, \n",
    "                dataloader, \n",
    "                test_dataloader,\n",
    "                epochs = EPOCHS, \n",
    "                final_criterion = FINAL_CRITERION, \n",
    "                learning_rate=LEARNING_RATE):\n",
    "    \n",
    "    cuda = torch.cuda.is_available()\n",
    "    if cuda:\n",
    "        model = model.to(device=\"cuda\")\n",
    "        print(\"CUDA available\")\n",
    "    else:\n",
    "        print(\"NO CUDA\")\n",
    "\n",
    "    optimizer = optim.Adam(model.parameters(), lr=learning_rate)\n",
    "    training_losses = []\n",
    "    training_acc = []\n",
    "    \n",
    "    test_losses = []\n",
    "    test_acc = []\n",
    "\n",
    "    for epoch in range(1, epochs+1):  \n",
    "        sum_loss_epoch = 0\n",
    "        total = 0\n",
    "        correct = 0\n",
    "        accuracy_epoch = 0\n",
    "        \n",
    "        for ind_batch, sample_batched in enumerate(dataloader):\n",
    "            \n",
    "            images = sample_batched[\"images\"]\n",
    "            labels = sample_batched[\"bool_labels\"]\n",
    "            \n",
    "            if cuda:\n",
    "                images = images.to(device=\"cuda\")\n",
    "                labels = labels.to(device=\"cuda\")\n",
    "\n",
    "            optimizer.zero_grad()\n",
    "\n",
    "            output = model(images)\n",
    "            \n",
    "            loss = final_criterion(output.flatten(), labels.float().flatten())\n",
    "\n",
    "            loss.require_grad = True\n",
    "            loss.backward()\n",
    "\n",
    "            optimizer.step()\n",
    "\n",
    "            #update the accuracy \n",
    "            total += images.size(0)  \n",
    "            correct += (output.round() == labels).sum() \n",
    "            \n",
    "            if ind_batch % 250 == 0:\n",
    "                print(\"[Epoch {}, Batch {}/{}]:  [Loss: {:.2f}]\".format(epoch, ind_batch, len(dataloader), loss) )\n",
    "                \n",
    "            #add the loss for this batch to the total loss of the epoch\n",
    "            sum_loss_epoch = sum_loss_epoch + loss.item()\n",
    "            \n",
    "        #compute the mean to obtain the loss for this epoch \n",
    "        mean_loss = sum_loss_epoch / float(len(dataloader))\n",
    "        \n",
    "        print(\"At epoch {0} the loss is {1}\".format(epoch, mean_loss) )\n",
    "        training_losses.append(mean_loss)\n",
    "        \n",
    "        accuracy_epoch = float(correct) / float(total)\n",
    "        print(\"At epoch {0} the accuracy is {1}\".format(epoch, accuracy_epoch) )\n",
    "        training_acc.append(accuracy_epoch)\n",
    "        \n",
    "        test_loss, test_accuracy = predict_basic(model,\n",
    "                                                 test_dataloader,\n",
    "                                                 final_criterion)\n",
    "\n",
    "        test_losses.append(test_loss)\n",
    "        test_acc.append(test_accuracy)\n",
    "        \n",
    "    return training_losses, training_acc, test_losses, test_acc\n",
    "\n",
    "def predict_basic(model, \n",
    "            dataloader,\n",
    "            final_criterion = FINAL_CRITERION):\n",
    "    \n",
    "    model.eval()\n",
    "    \n",
    "    cuda = torch.cuda.is_available()\n",
    "        \n",
    "    sum_loss = 0\n",
    "    total = 0\n",
    "    correct = 0\n",
    "    accuracy = 0\n",
    "\n",
    "    for ind_batch, sample_batched in enumerate(dataloader):\n",
    "\n",
    "        images = sample_batched[\"images\"]\n",
    "        labels = sample_batched[\"bool_labels\"]\n",
    "        \n",
    "        if cuda:\n",
    "            images = images.to(device=\"cuda\")\n",
    "            labels = labels.to(device=\"cuda\")\n",
    "\n",
    "        output = model(images)\n",
    "        \n",
    "        labels = labels.unsqueeze(1)\n",
    "\n",
    "        loss = final_criterion(output.flatten(), labels.float().flatten())\n",
    "\n",
    "        #update the accuracy \n",
    "        total += images.size(0)  \n",
    "        correct += (output.round() == labels).sum() \n",
    "\n",
    "        #add the loss for this batch to the total loss of the epoch\n",
    "        sum_loss = sum_loss + loss.item()\n",
    "\n",
    "    #compute the mean to obtain the loss for this epoch \n",
    "    mean_loss = sum_loss / float(len(dataloader))\n",
    "    \n",
    "    print(\"The test loss is {0}\".format(mean_loss) )\n",
    "\n",
    "    accuracy = float(correct) / float(total)\n",
    "    print(\"The test accuracy is {0}\".format(accuracy) )\n",
    "        \n",
    "    return mean_loss, accuracy"
   ]
  },
  {
   "cell_type": "markdown",
   "metadata": {},
   "source": [
    "## Load Data"
   ]
  },
  {
   "cell_type": "code",
   "execution_count": 6,
   "metadata": {},
   "outputs": [],
   "source": [
    "######## DATA #####################################################\n",
    "import torch.utils.data as data\n",
    "import matplotlib.pyplot as plt\n",
    "import numpy as np\n",
    "\n",
    "from torch.utils.data import Dataset\n",
    "\n",
    "\n",
    "class PairDataset(Dataset):\n",
    "\n",
    "    def __init__(self, data, bool_labels, digit_labels = None):\n",
    "        self.images = data\n",
    "        self.bool_labels = bool_labels\n",
    "        \n",
    "        if digit_labels is not None:\n",
    "            self.digit_labels = digit_labels\n",
    "\n",
    "    def __len__(self):\n",
    "        # override the class method. return the length of data\n",
    "        return len(self.bool_labels)\n",
    "\n",
    "    def __getitem__(self, idx):\n",
    "        # override the class method. return the item at the index(idx)\n",
    "        if self.digit_labels is not None:\n",
    "            sample = {\"images\" : self.images[idx],\n",
    "                      \"bool_labels\" : self.bool_labels[idx],\n",
    "                      \"digit_labels\" : self.digit_labels[idx]}\n",
    "        else:\n",
    "            sample = {\"images\" : self.images[idx],\n",
    "                      \"bool_labels\" : self.bool_labels[idx]}\n",
    "            \n",
    "        return sample\n",
    "    \n",
    "class SingleDataset(Dataset):\n",
    "\n",
    "    def __init__(self, data, digit_labels):\n",
    "        self.images = data\n",
    "        self.digit_labels = digit_labels\n",
    "\n",
    "    def __len__(self):\n",
    "        # override the class method. return the length of data\n",
    "        return len(self.digit_labels)\n",
    "\n",
    "    def __getitem__(self, idx):\n",
    "        # override the class method. return the item at the index(idx)\n",
    "        sample = {\"images\" : self.images[idx],\n",
    "                  \"digit_labels\" : self.digit_labels[idx]}\n",
    "            \n",
    "        return sample"
   ]
  },
  {
   "cell_type": "code",
   "execution_count": 7,
   "metadata": {},
   "outputs": [],
   "source": [
    "pairs = generate_pair_sets(NB_SAMPLES)\n",
    "\n",
    "train_dataset = PairDataset(pairs[0], pairs[1], pairs[2])\n",
    "train_dataloader = data.DataLoader(dataset=train_dataset, batch_size=TRAIN_BATCH_SIZE, shuffle=True)\n",
    "\n",
    "test_dataset = PairDataset(pairs[3], pairs[4], pairs[5])\n",
    "test_dataloader = data.DataLoader(dataset=test_dataset, batch_size=TEST_BATCH_SIZE, shuffle=True)"
   ]
  },
  {
   "cell_type": "markdown",
   "metadata": {},
   "source": [
    "## Model 1: \n",
    "## Basic model"
   ]
  },
  {
   "cell_type": "code",
   "execution_count": 8,
   "metadata": {},
   "outputs": [],
   "source": [
    "model1 = BasicNet(nb_hidden_layers = BASIC_NET_NB_HIDDEN,\n",
    "                  hidden_layer = BASIC_NET_HIDDEN_LAYER)"
   ]
  },
  {
   "cell_type": "code",
   "execution_count": 9,
   "metadata": {
    "scrolled": true
   },
   "outputs": [
    {
     "name": "stdout",
     "output_type": "stream",
     "text": [
      "----------------------------------------------------------------\n",
      "        Layer (type)               Output Shape         Param #\n",
      "================================================================\n",
      "            Linear-1                  [-1, 128]          50,304\n",
      "            Linear-2                    [-1, 1]             129\n",
      "================================================================\n",
      "Total params: 50,433\n",
      "Trainable params: 50,433\n",
      "Non-trainable params: 0\n",
      "----------------------------------------------------------------\n",
      "Input size (MB): 0.00\n",
      "Forward/backward pass size (MB): 0.00\n",
      "Params size (MB): 0.19\n",
      "Estimated Total Size (MB): 0.19\n",
      "----------------------------------------------------------------\n"
     ]
    }
   ],
   "source": [
    "summary(model1, INPUT_SIZE) "
   ]
  },
  {
   "cell_type": "code",
   "execution_count": 10,
   "metadata": {},
   "outputs": [
    {
     "name": "stdout",
     "output_type": "stream",
     "text": [
      "NO CUDA\n",
      "[Epoch 1, Batch 0/200]:  [Loss: 7.11]\n",
      "At epoch 1 the loss is 10.306773710206539\n",
      "At epoch 1 the accuracy is 2.745\n",
      "The test loss is 7.788061618804932\n",
      "The test accuracy is 0.658\n"
     ]
    }
   ],
   "source": [
    "tr_loss1, tr_acc1, te_loss1, te_acc1 = train_basic(model = model1,\n",
    "                                   dataloader = train_dataloader,\n",
    "                                   test_dataloader = test_dataloader,\n",
    "                                   epochs = EPOCHS,\n",
    "                                   final_criterion = FINAL_CRITERION,\n",
    "                                   learning_rate = LEARNING_RATE)"
   ]
  },
  {
   "cell_type": "code",
   "execution_count": 11,
   "metadata": {},
   "outputs": [
    {
     "data": {
      "text/plain": [
       "Text(0, 0.5, 'Accuracy')"
      ]
     },
     "execution_count": 11,
     "metadata": {},
     "output_type": "execute_result"
    },
    {
     "data": {
      "image/png": "[encoded data removed]",
      "text/plain": [
       "<Figure size 1080x360 with 2 Axes>"
      ]
     },
     "metadata": {
      "needs_background": "light"
     },
     "output_type": "display_data"
    }
   ],
   "source": [
    "plt.figure(figsize=(15,5))\n",
    "plt.subplot(1,2,1)\n",
    "\n",
    "plt.plot(range(1, EPOCHS+1), tr_loss1)\n",
    "plt.xlabel('Epochs')\n",
    "plt.ylabel('Binary Cross Entropy')\n",
    "plt.title('Training loss')\n",
    "\n",
    "plt.subplot(1,2,2)\n",
    "plt.plot(range(1, EPOCHS+1), tr_acc1)\n",
    "plt.title('Training accuracy')\n",
    "plt.xlabel(\"Epochs\")\n",
    "plt.ylabel(\"Accuracy\")"
   ]
  },
  {
   "cell_type": "code",
   "execution_count": 12,
   "metadata": {},
   "outputs": [
    {
     "name": "stdout",
     "output_type": "stream",
     "text": [
      "Last test accuracy :0.658\n"
     ]
    },
    {
     "data": {
      "image/png": "[encoded data removed]",
      "text/plain": [
       "<Figure size 1080x360 with 2 Axes>"
      ]
     },
     "metadata": {
      "needs_background": "light"
     },
     "output_type": "display_data"
    }
   ],
   "source": [
    "plt.figure(figsize=(15,5))\n",
    "plt.subplot(1,2,1)\n",
    "\n",
    "plt.plot(range(1, EPOCHS+1), te_loss1)\n",
    "plt.xlabel('Epochs')\n",
    "plt.ylabel('Binary Cross Entropy')\n",
    "plt.title('Test loss')\n",
    "\n",
    "plt.subplot(1,2,2)\n",
    "plt.plot(range(1, EPOCHS+1), te_acc1)\n",
    "plt.title('Test accuracy')\n",
    "plt.xlabel(\"Epochs\")\n",
    "plt.ylabel(\"Accuracy\")\n",
    "\n",
    "print(\"Last test accuracy :\" + str(te_acc1[-1]))"
   ]
  }
 ],
 "metadata": {
  "kernelspec": {
   "display_name": "Python 3",
   "language": "python",
   "name": "python3"
  },
  "language_info": {
   "codemirror_mode": {
    "name": "ipython",
    "version": 3
   },
   "file_extension": ".py",
   "mimetype": "text/x-python",
   "name": "python",
   "nbconvert_exporter": "python",
   "pygments_lexer": "ipython3",
   "version": "3.6.10"
  }
 },
 "nbformat": 4,
 "nbformat_minor": 4
}
