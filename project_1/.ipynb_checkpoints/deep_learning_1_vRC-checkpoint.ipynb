{
 "cells": [
  {
   "cell_type": "markdown",
   "metadata": {},
   "source": [
    "# DEEP LEARNING PROJECT 1\n",
    "---"
   ]
  },
  {
   "cell_type": "code",
   "execution_count": 1,
   "metadata": {},
   "outputs": [],
   "source": [
    "%load_ext autoreload\n",
    "%autoreload 2 \n",
    "\n",
    "import helpers\n",
    "import config\n",
    "\n",
    "from models.basic_net import BasicNet\n",
    "from datasets import PairDataset\n",
    "\n",
    "import torch.nn as nn\n",
    "import torch.utils.data as data\n",
    "import matplotlib.pyplot as plt\n",
    "\n",
    "from models.ANN import ANNModel\n",
    "from models.siamese_net import siamese_net\n",
    "from torchsummary import summary\n",
    "\n",
    "from models.train_ANN import train_ann\n",
    "from models.train_ANN import test_ann\n",
    "\n",
    "from models.train_Siamese import train_siamese\n",
    "from models.train_Siamese import test_siamese"
   ]
  },
  {
   "cell_type": "markdown",
   "metadata": {},
   "source": [
    "## Parameters"
   ]
  },
  {
   "cell_type": "code",
   "execution_count": 3,
   "metadata": {},
   "outputs": [],
   "source": [
    "TRAIN_BATCH_SIZE = 5\n",
    "CRITERION_DOUBLE = nn.BCELoss()\n",
    "CRITERION_SINGLE = nn.BCELoss()\n",
    "EPOCHS = 20\n",
    "LEARNING_RATE = 0.001"
   ]
  },
  {
   "cell_type": "markdown",
   "metadata": {},
   "source": [
    "## Load data"
   ]
  },
  {
   "cell_type": "code",
   "execution_count": 2,
   "metadata": {},
   "outputs": [],
   "source": [
    "pairs = helpers.generate_pair_sets(config.NB_SAMPLES)\n",
    "\n",
    "train_dataset = PairDataset(pairs[0], pairs[1], pairs[2])\n",
    "train_dataloader = data.DataLoader(dataset=train_dataset, batch_size=TRAIN_BATCH_SIZE, shuffle=True)\n",
    "\n",
    "test_dataset = PairDataset(pairs[3], pairs[4], pairs[5])\n",
    "test_dataloader = data.DataLoader(dataset=test_dataset, batch_size=config.TEST_BATCH_SIZE, shuffle=True)"
   ]
  },
  {
   "cell_type": "markdown",
   "metadata": {},
   "source": [
    "## Model 1: Simple model"
   ]
  },
  {
   "cell_type": "code",
   "execution_count": 17,
   "metadata": {},
   "outputs": [],
   "source": [
    "model1 = ANNModel(input_dim = 2*14*14, hidden_dim = 512, output_dim = 1)"
   ]
  },
  {
   "cell_type": "code",
   "execution_count": 18,
   "metadata": {},
   "outputs": [
    {
     "name": "stdout",
     "output_type": "stream",
     "text": [
      "----------------------------------------------------------------\n",
      "        Layer (type)               Output Shape         Param #\n",
      "================================================================\n",
      "            Linear-1                  [-1, 512]         201,216\n",
      "            Linear-2                  [-1, 512]         262,656\n",
      "            Linear-3                  [-1, 512]         262,656\n",
      "            Linear-4                    [-1, 1]             513\n",
      "================================================================\n",
      "Total params: 727,041\n",
      "Trainable params: 727,041\n",
      "Non-trainable params: 0\n",
      "----------------------------------------------------------------\n",
      "Input size (MB): 0.00\n",
      "Forward/backward pass size (MB): 0.01\n",
      "Params size (MB): 2.77\n",
      "Estimated Total Size (MB): 2.79\n",
      "----------------------------------------------------------------\n"
     ]
    }
   ],
   "source": [
    "summary(model1, (1 ,2, 14, 14)) "
   ]
  },
  {
   "cell_type": "code",
   "execution_count": 19,
   "metadata": {
    "scrolled": true
   },
   "outputs": [
    {
     "name": "stdout",
     "output_type": "stream",
     "text": [
      "Training with a batch size 1\n",
      "Training with 20 epochs, learning rate of 0.001 and BCELoss() as loss function\n",
      "[Epoch 1, Batch 0/1000]:  [Loss: 0.01]\n",
      "[Epoch 1, Batch 250/1000]:  [Loss: 27.63]\n",
      "[Epoch 1, Batch 500/1000]:  [Loss: 27.63]\n",
      "[Epoch 1, Batch 750/1000]:  [Loss: 27.63]\n",
      "At epoch 1 the total loss is 15.58391000137478\n",
      "At epoch 1 the accuracy is 0.436\n",
      "[Epoch 2, Batch 0/1000]:  [Loss: 0.00]\n",
      "[Epoch 2, Batch 250/1000]:  [Loss: 27.63]\n",
      "[Epoch 2, Batch 500/1000]:  [Loss: 0.00]\n",
      "[Epoch 2, Batch 750/1000]:  [Loss: 27.63]\n",
      "At epoch 2 the total loss is 15.583896125793457\n",
      "At epoch 2 the accuracy is 0.436\n",
      "[Epoch 3, Batch 0/1000]:  [Loss: 27.63]\n",
      "[Epoch 3, Batch 250/1000]:  [Loss: 0.00]\n",
      "[Epoch 3, Batch 500/1000]:  [Loss: 0.00]\n",
      "[Epoch 3, Batch 750/1000]:  [Loss: 27.63]\n",
      "At epoch 3 the total loss is 15.583896125793457\n",
      "At epoch 3 the accuracy is 0.436\n",
      "[Epoch 4, Batch 0/1000]:  [Loss: 27.63]\n",
      "[Epoch 4, Batch 250/1000]:  [Loss: 27.63]\n",
      "[Epoch 4, Batch 500/1000]:  [Loss: 27.63]\n"
     ]
    },
    {
     "ename": "KeyboardInterrupt",
     "evalue": "",
     "output_type": "error",
     "traceback": [
      "\u001b[1;31m---------------------------------------------------------------------------\u001b[0m",
      "\u001b[1;31mKeyboardInterrupt\u001b[0m                         Traceback (most recent call last)",
      "\u001b[1;32m<ipython-input-19-494c2954aed6>\u001b[0m in \u001b[0;36m<module>\u001b[1;34m\u001b[0m\n\u001b[0;32m      1\u001b[0m \u001b[0mprint\u001b[0m\u001b[1;33m(\u001b[0m\u001b[1;34m\"Training with a batch size {0}\"\u001b[0m\u001b[1;33m.\u001b[0m\u001b[0mformat\u001b[0m\u001b[1;33m(\u001b[0m\u001b[0mTRAIN_BATCH_SIZE\u001b[0m\u001b[1;33m)\u001b[0m\u001b[1;33m)\u001b[0m\u001b[1;33m\u001b[0m\u001b[1;33m\u001b[0m\u001b[0m\n\u001b[0;32m      2\u001b[0m \u001b[1;33m\u001b[0m\u001b[0m\n\u001b[1;32m----> 3\u001b[1;33m \u001b[0mtraining_losses\u001b[0m\u001b[1;33m,\u001b[0m \u001b[0mtraining_acc\u001b[0m\u001b[1;33m=\u001b[0m \u001b[0mtrain_ann\u001b[0m\u001b[1;33m(\u001b[0m\u001b[0mmodel\u001b[0m \u001b[1;33m=\u001b[0m \u001b[0mmodel1\u001b[0m\u001b[1;33m,\u001b[0m \u001b[0mdataloader\u001b[0m\u001b[1;33m=\u001b[0m\u001b[0mtrain_dataloader\u001b[0m\u001b[1;33m,\u001b[0m \u001b[0mlearning_rate\u001b[0m\u001b[1;33m=\u001b[0m\u001b[0mLEARNING_RATE\u001b[0m\u001b[1;33m,\u001b[0m \u001b[0mepochs\u001b[0m\u001b[1;33m=\u001b[0m\u001b[0mEPOCHS\u001b[0m\u001b[1;33m,\u001b[0m \u001b[0mcriterion\u001b[0m\u001b[1;33m=\u001b[0m\u001b[0mCRITERION_SINGLE\u001b[0m\u001b[1;33m)\u001b[0m\u001b[1;33m\u001b[0m\u001b[1;33m\u001b[0m\u001b[0m\n\u001b[0m",
      "\u001b[1;32m~\\Deep Learning\\DeepLearning\\project_1\\models\\train_ANN.py\u001b[0m in \u001b[0;36mtrain_ann\u001b[1;34m(model, dataloader, epochs, learning_rate, criterion, compare, save_model_flag)\u001b[0m\n\u001b[0;32m     34\u001b[0m \u001b[1;33m\u001b[0m\u001b[0m\n\u001b[0;32m     35\u001b[0m             \u001b[0mloss\u001b[0m\u001b[1;33m.\u001b[0m\u001b[0mrequire_grad\u001b[0m \u001b[1;33m=\u001b[0m \u001b[1;32mTrue\u001b[0m\u001b[1;33m\u001b[0m\u001b[1;33m\u001b[0m\u001b[0m\n\u001b[1;32m---> 36\u001b[1;33m             \u001b[0mloss\u001b[0m\u001b[1;33m.\u001b[0m\u001b[0mbackward\u001b[0m\u001b[1;33m(\u001b[0m\u001b[1;33m)\u001b[0m\u001b[1;33m\u001b[0m\u001b[1;33m\u001b[0m\u001b[0m\n\u001b[0m\u001b[0;32m     37\u001b[0m \u001b[1;33m\u001b[0m\u001b[0m\n\u001b[0;32m     38\u001b[0m             \u001b[0moptimizer\u001b[0m\u001b[1;33m.\u001b[0m\u001b[0mstep\u001b[0m\u001b[1;33m(\u001b[0m\u001b[1;33m)\u001b[0m\u001b[1;33m\u001b[0m\u001b[1;33m\u001b[0m\u001b[0m\n",
      "\u001b[1;32mC:\\Users\\Ridha\\Anaconda3\\lib\\site-packages\\torch\\tensor.py\u001b[0m in \u001b[0;36mbackward\u001b[1;34m(self, gradient, retain_graph, create_graph)\u001b[0m\n\u001b[0;32m    100\u001b[0m                 \u001b[0mproducts\u001b[0m\u001b[1;33m.\u001b[0m \u001b[0mDefaults\u001b[0m \u001b[0mto\u001b[0m\u001b[0;31m \u001b[0m\u001b[0;31m`\u001b[0m\u001b[0;31m`\u001b[0m\u001b[1;32mFalse\u001b[0m\u001b[0;31m`\u001b[0m\u001b[0;31m`\u001b[0m\u001b[1;33m.\u001b[0m\u001b[1;33m\u001b[0m\u001b[1;33m\u001b[0m\u001b[0m\n\u001b[0;32m    101\u001b[0m         \"\"\"\n\u001b[1;32m--> 102\u001b[1;33m         \u001b[0mtorch\u001b[0m\u001b[1;33m.\u001b[0m\u001b[0mautograd\u001b[0m\u001b[1;33m.\u001b[0m\u001b[0mbackward\u001b[0m\u001b[1;33m(\u001b[0m\u001b[0mself\u001b[0m\u001b[1;33m,\u001b[0m \u001b[0mgradient\u001b[0m\u001b[1;33m,\u001b[0m \u001b[0mretain_graph\u001b[0m\u001b[1;33m,\u001b[0m \u001b[0mcreate_graph\u001b[0m\u001b[1;33m)\u001b[0m\u001b[1;33m\u001b[0m\u001b[1;33m\u001b[0m\u001b[0m\n\u001b[0m\u001b[0;32m    103\u001b[0m \u001b[1;33m\u001b[0m\u001b[0m\n\u001b[0;32m    104\u001b[0m     \u001b[1;32mdef\u001b[0m \u001b[0mregister_hook\u001b[0m\u001b[1;33m(\u001b[0m\u001b[0mself\u001b[0m\u001b[1;33m,\u001b[0m \u001b[0mhook\u001b[0m\u001b[1;33m)\u001b[0m\u001b[1;33m:\u001b[0m\u001b[1;33m\u001b[0m\u001b[1;33m\u001b[0m\u001b[0m\n",
      "\u001b[1;32mC:\\Users\\Ridha\\Anaconda3\\lib\\site-packages\\torch\\autograd\\__init__.py\u001b[0m in \u001b[0;36mbackward\u001b[1;34m(tensors, grad_tensors, retain_graph, create_graph, grad_variables)\u001b[0m\n\u001b[0;32m     88\u001b[0m     Variable._execution_engine.run_backward(\n\u001b[0;32m     89\u001b[0m         \u001b[0mtensors\u001b[0m\u001b[1;33m,\u001b[0m \u001b[0mgrad_tensors\u001b[0m\u001b[1;33m,\u001b[0m \u001b[0mretain_graph\u001b[0m\u001b[1;33m,\u001b[0m \u001b[0mcreate_graph\u001b[0m\u001b[1;33m,\u001b[0m\u001b[1;33m\u001b[0m\u001b[1;33m\u001b[0m\u001b[0m\n\u001b[1;32m---> 90\u001b[1;33m         allow_unreachable=True)  # allow_unreachable flag\n\u001b[0m\u001b[0;32m     91\u001b[0m \u001b[1;33m\u001b[0m\u001b[0m\n\u001b[0;32m     92\u001b[0m \u001b[1;33m\u001b[0m\u001b[0m\n",
      "\u001b[1;31mKeyboardInterrupt\u001b[0m: "
     ]
    }
   ],
   "source": [
    "print(\"Training with a batch size {0}\".format(TRAIN_BATCH_SIZE))\n",
    "\n",
    "training_losses, training_acc= train_ann(model = model1, dataloader=train_dataloader, learning_rate=LEARNING_RATE, epochs=EPOCHS, criterion=CRITERION_SINGLE)"
   ]
  },
  {
   "cell_type": "code",
   "execution_count": 16,
   "metadata": {},
   "outputs": [
    {
     "data": {
      "image/png": "[encoded data removed]",
      "text/plain": [
       "<Figure size 432x288 with 1 Axes>"
      ]
     },
     "metadata": {
      "needs_background": "light"
     },
     "output_type": "display_data"
    }
   ],
   "source": [
    "plt.plot(training_losses)\n",
    "plt.xlabel('Epochs')\n",
    "plt.ylabel('Binary Cross Entropy')\n",
    "plt.title('Training loss')\n",
    "plt.show()"
   ]
  },
  {
   "cell_type": "code",
   "execution_count": 17,
   "metadata": {},
   "outputs": [
    {
     "data": {
      "image/png": "[encoded data removed]",
      "text/plain": [
       "<Figure size 432x288 with 1 Axes>"
      ]
     },
     "metadata": {
      "needs_background": "light"
     },
     "output_type": "display_data"
    }
   ],
   "source": [
    "plt.plot(training_acc)\n",
    "plt.title('Training accuracy')\n",
    "plt.xlabel(\"Epochs\")\n",
    "plt.ylabel(\"Accuracy\")\n",
    "plt.show()"
   ]
  },
  {
   "cell_type": "markdown",
   "metadata": {},
   "source": [
    "We now need to try the model on the test set."
   ]
  },
  {
   "cell_type": "code",
   "execution_count": 22,
   "metadata": {},
   "outputs": [
    {
     "data": {
      "text/plain": [
       "(0.8191723227500916, 0.807)"
      ]
     },
     "execution_count": 22,
     "metadata": {},
     "output_type": "execute_result"
    }
   ],
   "source": [
    "test_ann(model1,test_dataloader, config.CRITERION_SINGLE)"
   ]
  },
  {
   "cell_type": "markdown",
   "metadata": {},
   "source": [
    "## Model 2 : Siamese Net"
   ]
  },
  {
   "cell_type": "markdown",
   "metadata": {},
   "source": [
    "### Architecture 1"
   ]
  },
  {
   "cell_type": "markdown",
   "metadata": {},
   "source": [
    "**Options 1** : No weight Sharing, No auxilary function"
   ]
  },
  {
   "cell_type": "code",
   "execution_count": 23,
   "metadata": {},
   "outputs": [],
   "source": [
    "model2 = siamese_net(weight_sharing = False, architecture = 1)"
   ]
  },
  {
   "cell_type": "code",
   "execution_count": 24,
   "metadata": {
    "scrolled": false
   },
   "outputs": [
    {
     "name": "stdout",
     "output_type": "stream",
     "text": [
      "----------------------------------------------------------------\n",
      "        Layer (type)               Output Shape         Param #\n",
      "================================================================\n",
      "            Conv2d-1            [-1, 1, 12, 12]              10\n",
      "         LeakyReLU-2            [-1, 1, 12, 12]               0\n",
      "            Conv2d-3            [-1, 1, 10, 10]              10\n",
      "         LeakyReLU-4            [-1, 1, 10, 10]               0\n",
      "         MaxPool2d-5              [-1, 1, 5, 5]               0\n",
      "            Linear-6                  [-1, 512]          13,312\n",
      "         LeakyReLU-7                  [-1, 512]               0\n",
      "            Linear-8                   [-1, 10]           5,130\n",
      "           Softmax-9                   [-1, 10]               0\n",
      "           Conv2d-10            [-1, 1, 12, 12]              10\n",
      "        LeakyReLU-11            [-1, 1, 12, 12]               0\n",
      "           Conv2d-12            [-1, 1, 10, 10]              10\n",
      "        LeakyReLU-13            [-1, 1, 10, 10]               0\n",
      "        MaxPool2d-14              [-1, 1, 5, 5]               0\n",
      "           Linear-15                  [-1, 512]          13,312\n",
      "        LeakyReLU-16                  [-1, 512]               0\n",
      "           Linear-17                   [-1, 10]           5,130\n",
      "          Softmax-18                   [-1, 10]               0\n",
      "           Linear-19                    [-1, 1]              21\n",
      "          Sigmoid-20                    [-1, 1]               0\n",
      "================================================================\n",
      "Total params: 36,945\n",
      "Trainable params: 36,945\n",
      "Non-trainable params: 0\n",
      "----------------------------------------------------------------\n",
      "Input size (MB): 0.15\n",
      "Forward/backward pass size (MB): 0.02\n",
      "Params size (MB): 0.14\n",
      "Estimated Total Size (MB): 0.31\n",
      "----------------------------------------------------------------\n"
     ]
    },
    {
     "name": "stderr",
     "output_type": "stream",
     "text": [
      "C:\\Users\\Ridha\\Anaconda3\\lib\\site-packages\\torch\\nn\\modules\\container.py:92: UserWarning: Implicit dimension choice for softmax has been deprecated. Change the call to include dim=X as an argument.\n",
      "  input = module(input)\n"
     ]
    }
   ],
   "source": [
    "summary(model2, [(1, 14, 14), (1, 14, 14)])"
   ]
  },
  {
   "cell_type": "code",
   "execution_count": 25,
   "metadata": {},
   "outputs": [
    {
     "name": "stdout",
     "output_type": "stream",
     "text": [
      "Start training with 30 epochs, a learning rate of 0.001 and BCELoss() as loss function\n",
      "Without auxilary loss function\n",
      "Without weight sharing\n",
      "[Epoch 1, Batch 0/1000]:  [Loss: 0.65]\n",
      "[Epoch 1, Batch 250/1000]:  [Loss: 0.65]\n",
      "[Epoch 1, Batch 500/1000]:  [Loss: 0.60]\n",
      "[Epoch 1, Batch 750/1000]:  [Loss: 0.77]\n",
      "At epoch 1 the loss is 0.6822404265403748\n",
      "At epoch 1 the accuracy is 0.6\n",
      "[Epoch 2, Batch 0/1000]:  [Loss: 0.62]\n",
      "[Epoch 2, Batch 250/1000]:  [Loss: 0.85]\n",
      "[Epoch 2, Batch 500/1000]:  [Loss: 0.68]\n",
      "[Epoch 2, Batch 750/1000]:  [Loss: 0.50]\n",
      "At epoch 2 the loss is 0.6731359958648682\n",
      "At epoch 2 the accuracy is 0.612\n",
      "[Epoch 3, Batch 0/1000]:  [Loss: 0.92]\n",
      "[Epoch 3, Batch 250/1000]:  [Loss: 0.52]\n",
      "[Epoch 3, Batch 500/1000]:  [Loss: 0.57]\n",
      "[Epoch 3, Batch 750/1000]:  [Loss: 0.62]\n",
      "At epoch 3 the loss is 0.6630438566207886\n",
      "At epoch 3 the accuracy is 0.632\n",
      "[Epoch 4, Batch 0/1000]:  [Loss: 0.94]\n",
      "[Epoch 4, Batch 250/1000]:  [Loss: 0.57]\n",
      "[Epoch 4, Batch 500/1000]:  [Loss: 0.98]\n",
      "[Epoch 4, Batch 750/1000]:  [Loss: 0.44]\n",
      "At epoch 4 the loss is 0.6513630151748657\n",
      "At epoch 4 the accuracy is 0.643\n",
      "[Epoch 5, Batch 0/1000]:  [Loss: 0.93]\n",
      "[Epoch 5, Batch 250/1000]:  [Loss: 0.57]\n",
      "[Epoch 5, Batch 500/1000]:  [Loss: 0.51]\n",
      "[Epoch 5, Batch 750/1000]:  [Loss: 0.60]\n",
      "At epoch 5 the loss is 0.659286379814148\n",
      "At epoch 5 the accuracy is 0.628\n",
      "[Epoch 6, Batch 0/1000]:  [Loss: 0.69]\n",
      "[Epoch 6, Batch 250/1000]:  [Loss: 0.74]\n",
      "[Epoch 6, Batch 500/1000]:  [Loss: 0.97]\n",
      "[Epoch 6, Batch 750/1000]:  [Loss: 0.47]\n",
      "At epoch 6 the loss is 0.6660538911819458\n",
      "At epoch 6 the accuracy is 0.632\n",
      "[Epoch 7, Batch 0/1000]:  [Loss: 0.63]\n",
      "[Epoch 7, Batch 250/1000]:  [Loss: 0.52]\n",
      "[Epoch 7, Batch 500/1000]:  [Loss: 0.77]\n",
      "[Epoch 7, Batch 750/1000]:  [Loss: 0.61]\n",
      "At epoch 7 the loss is 0.6575517058372498\n",
      "At epoch 7 the accuracy is 0.633\n",
      "[Epoch 8, Batch 0/1000]:  [Loss: 1.02]\n",
      "[Epoch 8, Batch 250/1000]:  [Loss: 0.45]\n",
      "[Epoch 8, Batch 500/1000]:  [Loss: 0.98]\n",
      "[Epoch 8, Batch 750/1000]:  [Loss: 0.85]\n",
      "At epoch 8 the loss is 0.6563819050788879\n",
      "At epoch 8 the accuracy is 0.639\n",
      "[Epoch 9, Batch 0/1000]:  [Loss: 0.50]\n",
      "[Epoch 9, Batch 250/1000]:  [Loss: 0.48]\n",
      "[Epoch 9, Batch 500/1000]:  [Loss: 0.47]\n",
      "[Epoch 9, Batch 750/1000]:  [Loss: 0.40]\n",
      "At epoch 9 the loss is 0.6476191282272339\n",
      "At epoch 9 the accuracy is 0.65\n",
      "[Epoch 10, Batch 0/1000]:  [Loss: 1.00]\n"
     ]
    },
    {
     "ename": "KeyboardInterrupt",
     "evalue": "",
     "output_type": "error",
     "traceback": [
      "\u001b[1;31m---------------------------------------------------------------------------\u001b[0m",
      "\u001b[1;31mKeyboardInterrupt\u001b[0m                         Traceback (most recent call last)",
      "\u001b[1;32m<ipython-input-25-00a3a3d6f0ed>\u001b[0m in \u001b[0;36m<module>\u001b[1;34m\u001b[0m\n\u001b[0;32m      3\u001b[0m \u001b[0mepochs\u001b[0m \u001b[1;33m=\u001b[0m \u001b[1;36m30\u001b[0m\u001b[1;33m\u001b[0m\u001b[1;33m\u001b[0m\u001b[0m\n\u001b[0;32m      4\u001b[0m \u001b[1;33m\u001b[0m\u001b[0m\n\u001b[1;32m----> 5\u001b[1;33m \u001b[0mtraining_losses\u001b[0m\u001b[1;33m,\u001b[0m \u001b[0mtraining_acc\u001b[0m \u001b[1;33m=\u001b[0m \u001b[0mtrain_siamese\u001b[0m\u001b[1;33m(\u001b[0m\u001b[0mmodel2\u001b[0m\u001b[1;33m,\u001b[0m \u001b[0mtrain_dataloader\u001b[0m\u001b[1;33m,\u001b[0m \u001b[0mepochs\u001b[0m\u001b[1;33m,\u001b[0m \u001b[0mlr\u001b[0m\u001b[1;33m,\u001b[0m \u001b[0maux_loss\u001b[0m\u001b[1;33m)\u001b[0m\u001b[1;33m\u001b[0m\u001b[1;33m\u001b[0m\u001b[0m\n\u001b[0m",
      "\u001b[1;32m~\\Deep Learning\\DeepLearning\\project_1\\models\\train_Siamese.py\u001b[0m in \u001b[0;36mtrain_siamese\u001b[1;34m(model, dataloader, epochs, learning_rate, aux_loss, weight_loss_1, weight_loss_2)\u001b[0m\n\u001b[0;32m     76\u001b[0m \u001b[1;33m\u001b[0m\u001b[0m\n\u001b[0;32m     77\u001b[0m             \u001b[0mloss\u001b[0m\u001b[1;33m.\u001b[0m\u001b[0mrequire_grad\u001b[0m \u001b[1;33m=\u001b[0m \u001b[1;32mTrue\u001b[0m   \u001b[1;31m#should remove I think\u001b[0m\u001b[1;33m\u001b[0m\u001b[1;33m\u001b[0m\u001b[0m\n\u001b[1;32m---> 78\u001b[1;33m             \u001b[0mloss\u001b[0m\u001b[1;33m.\u001b[0m\u001b[0mbackward\u001b[0m\u001b[1;33m(\u001b[0m\u001b[1;33m)\u001b[0m\u001b[1;33m\u001b[0m\u001b[1;33m\u001b[0m\u001b[0m\n\u001b[0m\u001b[0;32m     79\u001b[0m \u001b[1;33m\u001b[0m\u001b[0m\n\u001b[0;32m     80\u001b[0m             \u001b[0moptimizer\u001b[0m\u001b[1;33m.\u001b[0m\u001b[0mstep\u001b[0m\u001b[1;33m(\u001b[0m\u001b[1;33m)\u001b[0m\u001b[1;33m\u001b[0m\u001b[1;33m\u001b[0m\u001b[0m\n",
      "\u001b[1;32mC:\\Users\\Ridha\\Anaconda3\\lib\\site-packages\\torch\\tensor.py\u001b[0m in \u001b[0;36mbackward\u001b[1;34m(self, gradient, retain_graph, create_graph)\u001b[0m\n\u001b[0;32m    100\u001b[0m                 \u001b[0mproducts\u001b[0m\u001b[1;33m.\u001b[0m \u001b[0mDefaults\u001b[0m \u001b[0mto\u001b[0m\u001b[0;31m \u001b[0m\u001b[0;31m`\u001b[0m\u001b[0;31m`\u001b[0m\u001b[1;32mFalse\u001b[0m\u001b[0;31m`\u001b[0m\u001b[0;31m`\u001b[0m\u001b[1;33m.\u001b[0m\u001b[1;33m\u001b[0m\u001b[1;33m\u001b[0m\u001b[0m\n\u001b[0;32m    101\u001b[0m         \"\"\"\n\u001b[1;32m--> 102\u001b[1;33m         \u001b[0mtorch\u001b[0m\u001b[1;33m.\u001b[0m\u001b[0mautograd\u001b[0m\u001b[1;33m.\u001b[0m\u001b[0mbackward\u001b[0m\u001b[1;33m(\u001b[0m\u001b[0mself\u001b[0m\u001b[1;33m,\u001b[0m \u001b[0mgradient\u001b[0m\u001b[1;33m,\u001b[0m \u001b[0mretain_graph\u001b[0m\u001b[1;33m,\u001b[0m \u001b[0mcreate_graph\u001b[0m\u001b[1;33m)\u001b[0m\u001b[1;33m\u001b[0m\u001b[1;33m\u001b[0m\u001b[0m\n\u001b[0m\u001b[0;32m    103\u001b[0m \u001b[1;33m\u001b[0m\u001b[0m\n\u001b[0;32m    104\u001b[0m     \u001b[1;32mdef\u001b[0m \u001b[0mregister_hook\u001b[0m\u001b[1;33m(\u001b[0m\u001b[0mself\u001b[0m\u001b[1;33m,\u001b[0m \u001b[0mhook\u001b[0m\u001b[1;33m)\u001b[0m\u001b[1;33m:\u001b[0m\u001b[1;33m\u001b[0m\u001b[1;33m\u001b[0m\u001b[0m\n",
      "\u001b[1;32mC:\\Users\\Ridha\\Anaconda3\\lib\\site-packages\\torch\\autograd\\__init__.py\u001b[0m in \u001b[0;36mbackward\u001b[1;34m(tensors, grad_tensors, retain_graph, create_graph, grad_variables)\u001b[0m\n\u001b[0;32m     88\u001b[0m     Variable._execution_engine.run_backward(\n\u001b[0;32m     89\u001b[0m         \u001b[0mtensors\u001b[0m\u001b[1;33m,\u001b[0m \u001b[0mgrad_tensors\u001b[0m\u001b[1;33m,\u001b[0m \u001b[0mretain_graph\u001b[0m\u001b[1;33m,\u001b[0m \u001b[0mcreate_graph\u001b[0m\u001b[1;33m,\u001b[0m\u001b[1;33m\u001b[0m\u001b[1;33m\u001b[0m\u001b[0m\n\u001b[1;32m---> 90\u001b[1;33m         allow_unreachable=True)  # allow_unreachable flag\n\u001b[0m\u001b[0;32m     91\u001b[0m \u001b[1;33m\u001b[0m\u001b[0m\n\u001b[0;32m     92\u001b[0m \u001b[1;33m\u001b[0m\u001b[0m\n",
      "\u001b[1;31mKeyboardInterrupt\u001b[0m: "
     ]
    }
   ],
   "source": [
    "lr = 0.001\n",
    "aux_loss = False \n",
    "epochs = 30\n",
    "\n",
    "training_losses, training_acc = train_siamese(model2, train_dataloader, epochs, lr, aux_loss)"
   ]
  },
  {
   "cell_type": "code",
   "execution_count": 34,
   "metadata": {},
   "outputs": [
    {
     "data": {
      "image/png": "[encoded data removed]",
      "text/plain": [
       "<Figure size 432x288 with 1 Axes>"
      ]
     },
     "metadata": {
      "needs_background": "light"
     },
     "output_type": "display_data"
    }
   ],
   "source": [
    "plt.plot(training_losses)\n",
    "plt.title('Training Binary Cross Entropy Loss')\n",
    "plt.xlabel(\"Epochs\")\n",
    "plt.ylabel(\"BCE\")\n",
    "plt.show()"
   ]
  },
  {
   "cell_type": "code",
   "execution_count": 35,
   "metadata": {},
   "outputs": [
    {
     "data": {
      "image/png": "[encoded data removed]",
      "text/plain": [
       "<Figure size 432x288 with 1 Axes>"
      ]
     },
     "metadata": {
      "needs_background": "light"
     },
     "output_type": "display_data"
    }
   ],
   "source": [
    "plt.plot(training_acc)\n",
    "plt.title('Training accuracy')\n",
    "plt.xlabel(\"Epochs\")\n",
    "plt.ylabel(\"Accuracy\")\n",
    "plt.show()"
   ]
  },
  {
   "cell_type": "code",
   "execution_count": 37,
   "metadata": {},
   "outputs": [
    {
     "name": "stdout",
     "output_type": "stream",
     "text": [
      "On the test set we obtain a loss of 0.63 and an accuracy of 0.68\n"
     ]
    }
   ],
   "source": [
    "test_loss ,test_acc = test_siamese(model2, test_dataloader, aux_loss = False)\n",
    "print(\"On the test set we obtain a loss of {:.2f} and an accuracy of {:.2f}\".format(test_loss,test_acc))"
   ]
  },
  {
   "cell_type": "markdown",
   "metadata": {},
   "source": [
    "**Options 2** : Weight Sharing, No auxilary function"
   ]
  },
  {
   "cell_type": "code",
   "execution_count": 4,
   "metadata": {},
   "outputs": [],
   "source": [
    "model2 = siamese_net(weight_sharing = True , architecture = 1)"
   ]
  },
  {
   "cell_type": "code",
   "execution_count": 7,
   "metadata": {},
   "outputs": [
    {
     "name": "stdout",
     "output_type": "stream",
     "text": [
      "Start training with 30 epochs, a learning rate of 0.001 and BCELoss() as loss function\n",
      "Without auxilary loss funciton\n",
      "With weight sharing\n",
      "[Epoch 1, Batch 0/1000]:  [Loss: 0.65]\n",
      "[Epoch 1, Batch 250/1000]:  [Loss: 0.52]\n",
      "[Epoch 1, Batch 500/1000]:  [Loss: 0.56]\n",
      "[Epoch 1, Batch 750/1000]:  [Loss: 0.61]\n",
      "At epoch 1 the loss is 0.6642462611198425\n",
      "At epoch 1 the accuracy is 0.622\n",
      "[Epoch 2, Batch 0/1000]:  [Loss: 0.82]\n",
      "[Epoch 2, Batch 250/1000]:  [Loss: 0.59]\n",
      "[Epoch 2, Batch 500/1000]:  [Loss: 0.45]\n",
      "[Epoch 2, Batch 750/1000]:  [Loss: 0.61]\n",
      "At epoch 2 the loss is 0.6445934772491455\n",
      "At epoch 2 the accuracy is 0.651\n",
      "[Epoch 3, Batch 0/1000]:  [Loss: 0.78]\n",
      "[Epoch 3, Batch 250/1000]:  [Loss: 0.59]\n",
      "[Epoch 3, Batch 500/1000]:  [Loss: 0.80]\n",
      "[Epoch 3, Batch 750/1000]:  [Loss: 0.62]\n",
      "At epoch 3 the loss is 0.6729118227958679\n",
      "At epoch 3 the accuracy is 0.573\n",
      "[Epoch 4, Batch 0/1000]:  [Loss: 0.62]\n",
      "[Epoch 4, Batch 250/1000]:  [Loss: 0.60]\n",
      "[Epoch 4, Batch 500/1000]:  [Loss: 0.97]\n",
      "[Epoch 4, Batch 750/1000]:  [Loss: 0.32]\n",
      "At epoch 4 the loss is 0.6636732220649719\n",
      "At epoch 4 the accuracy is 0.589\n",
      "[Epoch 5, Batch 0/1000]:  [Loss: 0.78]\n",
      "[Epoch 5, Batch 250/1000]:  [Loss: 0.78]\n",
      "[Epoch 5, Batch 500/1000]:  [Loss: 0.42]\n",
      "[Epoch 5, Batch 750/1000]:  [Loss: 0.43]\n",
      "At epoch 5 the loss is 0.6692336201667786\n",
      "At epoch 5 the accuracy is 0.581\n",
      "[Epoch 6, Batch 0/1000]:  [Loss: 0.79]\n",
      "[Epoch 6, Batch 250/1000]:  [Loss: 0.76]\n",
      "[Epoch 6, Batch 500/1000]:  [Loss: 0.79]\n",
      "[Epoch 6, Batch 750/1000]:  [Loss: 0.68]\n",
      "At epoch 6 the loss is 0.6659180521965027\n",
      "At epoch 6 the accuracy is 0.592\n",
      "[Epoch 7, Batch 0/1000]:  [Loss: 0.44]\n",
      "[Epoch 7, Batch 250/1000]:  [Loss: 0.64]\n",
      "[Epoch 7, Batch 500/1000]:  [Loss: 0.79]\n",
      "[Epoch 7, Batch 750/1000]:  [Loss: 0.79]\n",
      "At epoch 7 the loss is 0.6404659152030945\n",
      "At epoch 7 the accuracy is 0.63\n",
      "[Epoch 8, Batch 0/1000]:  [Loss: 0.25]\n",
      "[Epoch 8, Batch 250/1000]:  [Loss: 0.38]\n",
      "[Epoch 8, Batch 500/1000]:  [Loss: 1.18]\n",
      "[Epoch 8, Batch 750/1000]:  [Loss: 0.61]\n",
      "At epoch 8 the loss is 0.6485844850540161\n",
      "At epoch 8 the accuracy is 0.632\n",
      "[Epoch 9, Batch 0/1000]:  [Loss: 0.25]\n",
      "[Epoch 9, Batch 250/1000]:  [Loss: 0.60]\n",
      "[Epoch 9, Batch 500/1000]:  [Loss: 1.07]\n",
      "[Epoch 9, Batch 750/1000]:  [Loss: 0.54]\n",
      "At epoch 9 the loss is 0.6223152279853821\n",
      "At epoch 9 the accuracy is 0.67\n",
      "[Epoch 10, Batch 0/1000]:  [Loss: 0.79]\n",
      "[Epoch 10, Batch 250/1000]:  [Loss: 0.24]\n",
      "[Epoch 10, Batch 500/1000]:  [Loss: 0.82]\n",
      "[Epoch 10, Batch 750/1000]:  [Loss: 0.33]\n",
      "At epoch 10 the loss is 0.5944802165031433\n",
      "At epoch 10 the accuracy is 0.692\n",
      "[Epoch 11, Batch 0/1000]:  [Loss: 0.22]\n",
      "[Epoch 11, Batch 250/1000]:  [Loss: 0.37]\n",
      "[Epoch 11, Batch 500/1000]:  [Loss: 0.64]\n",
      "[Epoch 11, Batch 750/1000]:  [Loss: 1.26]\n",
      "At epoch 11 the loss is 0.600159227848053\n",
      "At epoch 11 the accuracy is 0.691\n",
      "[Epoch 12, Batch 0/1000]:  [Loss: 0.58]\n",
      "[Epoch 12, Batch 250/1000]:  [Loss: 0.63]\n",
      "[Epoch 12, Batch 500/1000]:  [Loss: 0.30]\n",
      "[Epoch 12, Batch 750/1000]:  [Loss: 0.82]\n",
      "At epoch 12 the loss is 0.5953962802886963\n",
      "At epoch 12 the accuracy is 0.704\n",
      "[Epoch 13, Batch 0/1000]:  [Loss: 0.58]\n",
      "[Epoch 13, Batch 250/1000]:  [Loss: 0.57]\n",
      "[Epoch 13, Batch 500/1000]:  [Loss: 1.39]\n",
      "[Epoch 13, Batch 750/1000]:  [Loss: 1.39]\n",
      "At epoch 13 the loss is 0.5696120262145996\n",
      "At epoch 13 the accuracy is 0.705\n",
      "[Epoch 14, Batch 0/1000]:  [Loss: 1.92]\n",
      "[Epoch 14, Batch 250/1000]:  [Loss: 0.84]\n",
      "[Epoch 14, Batch 500/1000]:  [Loss: 1.53]\n",
      "[Epoch 14, Batch 750/1000]:  [Loss: 0.24]\n",
      "At epoch 14 the loss is 0.5612019300460815\n",
      "At epoch 14 the accuracy is 0.717\n",
      "[Epoch 15, Batch 0/1000]:  [Loss: 0.58]\n",
      "[Epoch 15, Batch 250/1000]:  [Loss: 0.82]\n",
      "[Epoch 15, Batch 500/1000]:  [Loss: 0.84]\n",
      "[Epoch 15, Batch 750/1000]:  [Loss: 0.37]\n",
      "At epoch 15 the loss is 0.5540627837181091\n",
      "At epoch 15 the accuracy is 0.724\n",
      "[Epoch 16, Batch 0/1000]:  [Loss: 0.59]\n",
      "[Epoch 16, Batch 250/1000]:  [Loss: 0.14]\n",
      "[Epoch 16, Batch 500/1000]:  [Loss: 0.59]\n",
      "[Epoch 16, Batch 750/1000]:  [Loss: 0.29]\n",
      "At epoch 16 the loss is 0.5342773199081421\n",
      "At epoch 16 the accuracy is 0.734\n",
      "[Epoch 17, Batch 0/1000]:  [Loss: 0.21]\n",
      "[Epoch 17, Batch 250/1000]:  [Loss: 0.68]\n",
      "[Epoch 17, Batch 500/1000]:  [Loss: 1.19]\n",
      "[Epoch 17, Batch 750/1000]:  [Loss: 0.46]\n",
      "At epoch 17 the loss is 0.589841365814209\n",
      "At epoch 17 the accuracy is 0.701\n",
      "[Epoch 18, Batch 0/1000]:  [Loss: 1.72]\n",
      "[Epoch 18, Batch 250/1000]:  [Loss: 0.62]\n",
      "[Epoch 18, Batch 500/1000]:  [Loss: 0.74]\n",
      "[Epoch 18, Batch 750/1000]:  [Loss: 0.65]\n",
      "At epoch 18 the loss is 0.5802729725837708\n",
      "At epoch 18 the accuracy is 0.719\n",
      "[Epoch 19, Batch 0/1000]:  [Loss: 0.29]\n",
      "[Epoch 19, Batch 250/1000]:  [Loss: 0.24]\n",
      "[Epoch 19, Batch 500/1000]:  [Loss: 0.44]\n",
      "[Epoch 19, Batch 750/1000]:  [Loss: 0.23]\n",
      "At epoch 19 the loss is 0.573139488697052\n",
      "At epoch 19 the accuracy is 0.696\n",
      "[Epoch 20, Batch 0/1000]:  [Loss: 0.35]\n",
      "[Epoch 20, Batch 250/1000]:  [Loss: 0.64]\n",
      "[Epoch 20, Batch 500/1000]:  [Loss: 0.33]\n",
      "[Epoch 20, Batch 750/1000]:  [Loss: 0.62]\n",
      "At epoch 20 the loss is 0.5921505689620972\n",
      "At epoch 20 the accuracy is 0.696\n",
      "[Epoch 21, Batch 0/1000]:  [Loss: 0.85]\n",
      "[Epoch 21, Batch 250/1000]:  [Loss: 0.10]\n",
      "[Epoch 21, Batch 500/1000]:  [Loss: 0.30]\n",
      "[Epoch 21, Batch 750/1000]:  [Loss: 0.35]\n",
      "At epoch 21 the loss is 0.5945443511009216\n",
      "At epoch 21 the accuracy is 0.692\n",
      "[Epoch 22, Batch 0/1000]:  [Loss: 0.34]\n",
      "[Epoch 22, Batch 250/1000]:  [Loss: 1.03]\n",
      "[Epoch 22, Batch 500/1000]:  [Loss: 1.04]\n",
      "[Epoch 22, Batch 750/1000]:  [Loss: 0.25]\n",
      "At epoch 22 the loss is 0.5754714012145996\n",
      "At epoch 22 the accuracy is 0.707\n",
      "[Epoch 23, Batch 0/1000]:  [Loss: 0.10]\n",
      "[Epoch 23, Batch 250/1000]:  [Loss: 0.27]\n",
      "[Epoch 23, Batch 500/1000]:  [Loss: 0.26]\n",
      "[Epoch 23, Batch 750/1000]:  [Loss: 0.17]\n",
      "At epoch 23 the loss is 0.5638167262077332\n",
      "At epoch 23 the accuracy is 0.709\n",
      "[Epoch 24, Batch 0/1000]:  [Loss: 1.20]\n",
      "[Epoch 24, Batch 250/1000]:  [Loss: 0.88]\n",
      "[Epoch 24, Batch 500/1000]:  [Loss: 0.16]\n",
      "[Epoch 24, Batch 750/1000]:  [Loss: 1.51]\n",
      "At epoch 24 the loss is 0.5332284569740295\n",
      "At epoch 24 the accuracy is 0.729\n",
      "[Epoch 25, Batch 0/1000]:  [Loss: 0.40]\n",
      "[Epoch 25, Batch 250/1000]:  [Loss: 0.09]\n",
      "[Epoch 25, Batch 500/1000]:  [Loss: 0.89]\n",
      "[Epoch 25, Batch 750/1000]:  [Loss: 0.54]\n",
      "At epoch 25 the loss is 0.5288004279136658\n",
      "At epoch 25 the accuracy is 0.738\n",
      "[Epoch 26, Batch 0/1000]:  [Loss: 0.09]\n",
      "[Epoch 26, Batch 250/1000]:  [Loss: 2.20]\n",
      "[Epoch 26, Batch 500/1000]:  [Loss: 0.41]\n",
      "[Epoch 26, Batch 750/1000]:  [Loss: 0.15]\n",
      "At epoch 26 the loss is 0.5250726938247681\n",
      "At epoch 26 the accuracy is 0.747\n",
      "[Epoch 27, Batch 0/1000]:  [Loss: 0.28]\n",
      "[Epoch 27, Batch 250/1000]:  [Loss: 0.54]\n",
      "[Epoch 27, Batch 500/1000]:  [Loss: 0.30]\n",
      "[Epoch 27, Batch 750/1000]:  [Loss: 0.41]\n",
      "At epoch 27 the loss is 0.5269252061843872\n",
      "At epoch 27 the accuracy is 0.743\n",
      "[Epoch 28, Batch 0/1000]:  [Loss: 1.47]\n",
      "[Epoch 28, Batch 250/1000]:  [Loss: 0.22]\n",
      "[Epoch 28, Batch 500/1000]:  [Loss: 0.30]\n",
      "[Epoch 28, Batch 750/1000]:  [Loss: 0.13]\n",
      "At epoch 28 the loss is 0.5274912714958191\n",
      "At epoch 28 the accuracy is 0.735\n",
      "[Epoch 29, Batch 0/1000]:  [Loss: 0.81]\n",
      "[Epoch 29, Batch 250/1000]:  [Loss: 0.29]\n",
      "[Epoch 29, Batch 500/1000]:  [Loss: 0.44]\n",
      "[Epoch 29, Batch 750/1000]:  [Loss: 0.57]\n",
      "At epoch 29 the loss is 0.5716298818588257\n",
      "At epoch 29 the accuracy is 0.712\n",
      "[Epoch 30, Batch 0/1000]:  [Loss: 0.20]\n",
      "[Epoch 30, Batch 250/1000]:  [Loss: 0.13]\n",
      "[Epoch 30, Batch 500/1000]:  [Loss: 0.30]\n",
      "[Epoch 30, Batch 750/1000]:  [Loss: 0.25]\n",
      "At epoch 30 the loss is 0.518446147441864\n",
      "At epoch 30 the accuracy is 0.745\n"
     ]
    }
   ],
   "source": [
    "lr = 0.001\n",
    "aux_loss = False \n",
    "epochs = 30\n",
    "\n",
    "training_losses, training_acc = train_siamese(model2, train_dataloader, epochs, lr, aux_loss)"
   ]
  },
  {
   "cell_type": "code",
   "execution_count": 8,
   "metadata": {},
   "outputs": [
    {
     "data": {
      "image/png": "[encoded data removed]",
      "text/plain": [
       "<Figure size 432x288 with 1 Axes>"
      ]
     },
     "metadata": {
      "needs_background": "light"
     },
     "output_type": "display_data"
    }
   ],
   "source": [
    "plt.plot(training_losses)\n",
    "plt.title('Training Binary Cross Entropy Loss')\n",
    "plt.xlabel(\"Epochs\")\n",
    "plt.ylabel(\"BCE\")\n",
    "plt.show()"
   ]
  },
  {
   "cell_type": "code",
   "execution_count": 9,
   "metadata": {},
   "outputs": [
    {
     "data": {
      "image/png": "[encoded data removed]",
      "text/plain": [
       "<Figure size 432x288 with 1 Axes>"
      ]
     },
     "metadata": {
      "needs_background": "light"
     },
     "output_type": "display_data"
    }
   ],
   "source": [
    "plt.plot(training_acc)\n",
    "plt.title('Training accuracy')\n",
    "plt.xlabel(\"Epochs\")\n",
    "plt.ylabel(\"accuracy\")\n",
    "plt.show()"
   ]
  },
  {
   "cell_type": "code",
   "execution_count": 11,
   "metadata": {
    "scrolled": true
   },
   "outputs": [
    {
     "name": "stdout",
     "output_type": "stream",
     "text": [
      "On the test set we obtain a loss of 0.52 and an accuracy of 0.74\n"
     ]
    }
   ],
   "source": [
    "test_loss ,test_acc = test_siamese(model2, test_dataloader, aux_loss = False)\n",
    "print(\"On the test set we obtain a loss of {:.2f} and an accuracy of {:.2f}\".format(test_loss,test_acc))"
   ]
  },
  {
   "cell_type": "markdown",
   "metadata": {},
   "source": [
    "**Option 3:**  No weight Sharing, auxilary function"
   ]
  },
  {
   "cell_type": "code",
   "execution_count": 12,
   "metadata": {},
   "outputs": [],
   "source": [
    "model2 = siamese_net(weight_sharing = False , architecture = 1)"
   ]
  },
  {
   "cell_type": "code",
   "execution_count": 14,
   "metadata": {},
   "outputs": [
    {
     "name": "stdout",
     "output_type": "stream",
     "text": [
      "Start training with 30 epochs, a learning rate of 0.001 and BCELoss() as loss function\n",
      "With auxilary loss funciton\n",
      "Without weight sharing\n",
      "[Epoch 1, Batch 0/1000]:  [Loss: 1.13]\n",
      "[Epoch 1, Batch 250/1000]:  [Loss: 0.84]\n",
      "[Epoch 1, Batch 500/1000]:  [Loss: 0.79]\n",
      "[Epoch 1, Batch 750/1000]:  [Loss: 0.74]\n",
      "At epoch 1 the loss is 0.7762801647186279\n",
      "At epoch 1 the accuracy is 0.642\n",
      "[Epoch 2, Batch 0/1000]:  [Loss: 1.02]\n",
      "[Epoch 2, Batch 250/1000]:  [Loss: 0.73]\n",
      "[Epoch 2, Batch 500/1000]:  [Loss: 0.85]\n",
      "[Epoch 2, Batch 750/1000]:  [Loss: 0.46]\n",
      "At epoch 2 the loss is 0.6750748753547668\n",
      "At epoch 2 the accuracy is 0.733\n",
      "[Epoch 3, Batch 0/1000]:  [Loss: 0.50]\n",
      "[Epoch 3, Batch 250/1000]:  [Loss: 0.70]\n",
      "[Epoch 3, Batch 500/1000]:  [Loss: 0.84]\n",
      "[Epoch 3, Batch 750/1000]:  [Loss: 0.53]\n",
      "At epoch 3 the loss is 0.6098330616950989\n",
      "At epoch 3 the accuracy is 0.8\n",
      "[Epoch 4, Batch 0/1000]:  [Loss: 0.43]\n",
      "[Epoch 4, Batch 250/1000]:  [Loss: 1.10]\n",
      "[Epoch 4, Batch 500/1000]:  [Loss: 0.67]\n",
      "[Epoch 4, Batch 750/1000]:  [Loss: 0.43]\n",
      "At epoch 4 the loss is 0.5529024600982666\n",
      "At epoch 4 the accuracy is 0.835\n",
      "[Epoch 5, Batch 0/1000]:  [Loss: 0.41]\n",
      "[Epoch 5, Batch 250/1000]:  [Loss: 0.24]\n",
      "[Epoch 5, Batch 500/1000]:  [Loss: 0.59]\n",
      "[Epoch 5, Batch 750/1000]:  [Loss: 0.71]\n",
      "At epoch 5 the loss is 0.5073676705360413\n",
      "At epoch 5 the accuracy is 0.867\n",
      "[Epoch 6, Batch 0/1000]:  [Loss: 0.65]\n",
      "[Epoch 6, Batch 250/1000]:  [Loss: 0.51]\n",
      "[Epoch 6, Batch 500/1000]:  [Loss: 0.32]\n",
      "[Epoch 6, Batch 750/1000]:  [Loss: 0.49]\n",
      "At epoch 6 the loss is 0.46458178758621216\n",
      "At epoch 6 the accuracy is 0.881\n",
      "[Epoch 7, Batch 0/1000]:  [Loss: 0.28]\n",
      "[Epoch 7, Batch 250/1000]:  [Loss: 0.38]\n",
      "[Epoch 7, Batch 500/1000]:  [Loss: 0.18]\n",
      "[Epoch 7, Batch 750/1000]:  [Loss: 0.41]\n",
      "At epoch 7 the loss is 0.4247972369194031\n",
      "At epoch 7 the accuracy is 0.915\n",
      "[Epoch 8, Batch 0/1000]:  [Loss: 0.73]\n",
      "[Epoch 8, Batch 250/1000]:  [Loss: 0.26]\n",
      "[Epoch 8, Batch 500/1000]:  [Loss: 0.74]\n",
      "[Epoch 8, Batch 750/1000]:  [Loss: 0.49]\n",
      "At epoch 8 the loss is 0.40652018785476685\n",
      "At epoch 8 the accuracy is 0.913\n",
      "[Epoch 9, Batch 0/1000]:  [Loss: 0.19]\n",
      "[Epoch 9, Batch 250/1000]:  [Loss: 0.44]\n",
      "[Epoch 9, Batch 500/1000]:  [Loss: 0.55]\n",
      "[Epoch 9, Batch 750/1000]:  [Loss: 0.35]\n",
      "At epoch 9 the loss is 0.3750044107437134\n",
      "At epoch 9 the accuracy is 0.924\n",
      "[Epoch 10, Batch 0/1000]:  [Loss: 0.71]\n",
      "[Epoch 10, Batch 250/1000]:  [Loss: 0.37]\n",
      "[Epoch 10, Batch 500/1000]:  [Loss: 0.11]\n",
      "[Epoch 10, Batch 750/1000]:  [Loss: 2.55]\n",
      "At epoch 10 the loss is 0.34434178471565247\n",
      "At epoch 10 the accuracy is 0.941\n",
      "[Epoch 11, Batch 0/1000]:  [Loss: 0.15]\n",
      "[Epoch 11, Batch 250/1000]:  [Loss: 0.94]\n",
      "[Epoch 11, Batch 500/1000]:  [Loss: 0.47]\n",
      "[Epoch 11, Batch 750/1000]:  [Loss: 0.17]\n",
      "At epoch 11 the loss is 0.33047062158584595\n",
      "At epoch 11 the accuracy is 0.925\n",
      "[Epoch 12, Batch 0/1000]:  [Loss: 0.20]\n",
      "[Epoch 12, Batch 250/1000]:  [Loss: 0.26]\n",
      "[Epoch 12, Batch 500/1000]:  [Loss: 0.19]\n",
      "[Epoch 12, Batch 750/1000]:  [Loss: 0.64]\n",
      "At epoch 12 the loss is 0.2982451617717743\n",
      "At epoch 12 the accuracy is 0.953\n",
      "[Epoch 13, Batch 0/1000]:  [Loss: 0.23]\n",
      "[Epoch 13, Batch 250/1000]:  [Loss: 0.12]\n",
      "[Epoch 13, Batch 500/1000]:  [Loss: 0.04]\n",
      "[Epoch 13, Batch 750/1000]:  [Loss: 1.01]\n",
      "At epoch 13 the loss is 0.2920817732810974\n",
      "At epoch 13 the accuracy is 0.947\n",
      "[Epoch 14, Batch 0/1000]:  [Loss: 0.08]\n",
      "[Epoch 14, Batch 250/1000]:  [Loss: 0.04]\n",
      "[Epoch 14, Batch 500/1000]:  [Loss: 0.45]\n",
      "[Epoch 14, Batch 750/1000]:  [Loss: 0.41]\n",
      "At epoch 14 the loss is 0.27786985039711\n",
      "At epoch 14 the accuracy is 0.953\n",
      "[Epoch 15, Batch 0/1000]:  [Loss: 0.22]\n",
      "[Epoch 15, Batch 250/1000]:  [Loss: 0.12]\n",
      "[Epoch 15, Batch 500/1000]:  [Loss: 0.20]\n",
      "[Epoch 15, Batch 750/1000]:  [Loss: 0.01]\n",
      "At epoch 15 the loss is 0.2518289089202881\n",
      "At epoch 15 the accuracy is 0.968\n",
      "[Epoch 16, Batch 0/1000]:  [Loss: 0.78]\n",
      "[Epoch 16, Batch 250/1000]:  [Loss: 0.08]\n",
      "[Epoch 16, Batch 500/1000]:  [Loss: 0.10]\n",
      "[Epoch 16, Batch 750/1000]:  [Loss: 0.25]\n",
      "At epoch 16 the loss is 0.24243515729904175\n",
      "At epoch 16 the accuracy is 0.965\n",
      "[Epoch 17, Batch 0/1000]:  [Loss: 0.23]\n",
      "[Epoch 17, Batch 250/1000]:  [Loss: 0.04]\n",
      "[Epoch 17, Batch 500/1000]:  [Loss: 0.59]\n",
      "[Epoch 17, Batch 750/1000]:  [Loss: 0.17]\n",
      "At epoch 17 the loss is 0.22864127159118652\n",
      "At epoch 17 the accuracy is 0.973\n",
      "[Epoch 18, Batch 0/1000]:  [Loss: 0.00]\n",
      "[Epoch 18, Batch 250/1000]:  [Loss: 0.24]\n",
      "[Epoch 18, Batch 500/1000]:  [Loss: 0.02]\n",
      "[Epoch 18, Batch 750/1000]:  [Loss: 0.24]\n",
      "At epoch 18 the loss is 0.22252245247364044\n",
      "At epoch 18 the accuracy is 0.972\n",
      "[Epoch 19, Batch 0/1000]:  [Loss: 0.32]\n",
      "[Epoch 19, Batch 250/1000]:  [Loss: 0.13]\n",
      "[Epoch 19, Batch 500/1000]:  [Loss: 0.26]\n",
      "[Epoch 19, Batch 750/1000]:  [Loss: 0.57]\n",
      "At epoch 19 the loss is 0.20532293617725372\n",
      "At epoch 19 the accuracy is 0.977\n",
      "[Epoch 20, Batch 0/1000]:  [Loss: 0.19]\n",
      "[Epoch 20, Batch 250/1000]:  [Loss: 0.01]\n",
      "[Epoch 20, Batch 500/1000]:  [Loss: 0.51]\n",
      "[Epoch 20, Batch 750/1000]:  [Loss: 0.59]\n",
      "At epoch 20 the loss is 0.20909452438354492\n",
      "At epoch 20 the accuracy is 0.974\n",
      "[Epoch 21, Batch 0/1000]:  [Loss: 0.11]\n",
      "[Epoch 21, Batch 250/1000]:  [Loss: 0.15]\n",
      "[Epoch 21, Batch 500/1000]:  [Loss: 0.12]\n",
      "[Epoch 21, Batch 750/1000]:  [Loss: 0.01]\n",
      "At epoch 21 the loss is 0.17917661368846893\n",
      "At epoch 21 the accuracy is 0.984\n",
      "[Epoch 22, Batch 0/1000]:  [Loss: 0.01]\n",
      "[Epoch 22, Batch 250/1000]:  [Loss: 0.15]\n",
      "[Epoch 22, Batch 500/1000]:  [Loss: 0.56]\n",
      "[Epoch 22, Batch 750/1000]:  [Loss: 0.01]\n",
      "At epoch 22 the loss is 0.18887455761432648\n",
      "At epoch 22 the accuracy is 0.974\n",
      "[Epoch 23, Batch 0/1000]:  [Loss: 0.10]\n",
      "[Epoch 23, Batch 250/1000]:  [Loss: 0.02]\n",
      "[Epoch 23, Batch 500/1000]:  [Loss: 0.04]\n",
      "[Epoch 23, Batch 750/1000]:  [Loss: 0.54]\n",
      "At epoch 23 the loss is 0.18474704027175903\n",
      "At epoch 23 the accuracy is 0.98\n",
      "[Epoch 24, Batch 0/1000]:  [Loss: 0.14]\n",
      "[Epoch 24, Batch 250/1000]:  [Loss: 0.09]\n",
      "[Epoch 24, Batch 500/1000]:  [Loss: 0.43]\n",
      "[Epoch 24, Batch 750/1000]:  [Loss: 0.17]\n",
      "At epoch 24 the loss is 0.1744687557220459\n",
      "At epoch 24 the accuracy is 0.98\n",
      "[Epoch 25, Batch 0/1000]:  [Loss: 0.09]\n",
      "[Epoch 25, Batch 250/1000]:  [Loss: 0.03]\n",
      "[Epoch 25, Batch 500/1000]:  [Loss: 0.02]\n",
      "[Epoch 25, Batch 750/1000]:  [Loss: 0.13]\n",
      "At epoch 25 the loss is 0.1559455543756485\n",
      "At epoch 25 the accuracy is 0.985\n",
      "[Epoch 26, Batch 0/1000]:  [Loss: 0.06]\n",
      "[Epoch 26, Batch 250/1000]:  [Loss: 0.03]\n",
      "[Epoch 26, Batch 500/1000]:  [Loss: 0.43]\n",
      "[Epoch 26, Batch 750/1000]:  [Loss: 1.53]\n",
      "At epoch 26 the loss is 0.16719003021717072\n",
      "At epoch 26 the accuracy is 0.978\n",
      "[Epoch 27, Batch 0/1000]:  [Loss: 0.23]\n",
      "[Epoch 27, Batch 250/1000]:  [Loss: 0.04]\n",
      "[Epoch 27, Batch 500/1000]:  [Loss: 0.42]\n",
      "[Epoch 27, Batch 750/1000]:  [Loss: 0.01]\n",
      "At epoch 27 the loss is 0.1598881483078003\n",
      "At epoch 27 the accuracy is 0.983\n",
      "[Epoch 28, Batch 0/1000]:  [Loss: 0.00]\n",
      "[Epoch 28, Batch 250/1000]:  [Loss: 0.06]\n",
      "[Epoch 28, Batch 500/1000]:  [Loss: 0.04]\n",
      "[Epoch 28, Batch 750/1000]:  [Loss: 0.06]\n",
      "At epoch 28 the loss is 0.13976746797561646\n",
      "At epoch 28 the accuracy is 0.989\n",
      "[Epoch 29, Batch 0/1000]:  [Loss: 0.07]\n",
      "[Epoch 29, Batch 250/1000]:  [Loss: 0.25]\n",
      "[Epoch 29, Batch 500/1000]:  [Loss: 0.09]\n",
      "[Epoch 29, Batch 750/1000]:  [Loss: 0.17]\n",
      "At epoch 29 the loss is 0.12652301788330078\n",
      "At epoch 29 the accuracy is 0.99\n",
      "[Epoch 30, Batch 0/1000]:  [Loss: 0.14]\n",
      "[Epoch 30, Batch 250/1000]:  [Loss: 0.17]\n",
      "[Epoch 30, Batch 500/1000]:  [Loss: 0.86]\n",
      "[Epoch 30, Batch 750/1000]:  [Loss: 0.26]\n",
      "At epoch 30 the loss is 0.18278899788856506\n",
      "At epoch 30 the accuracy is 0.969\n"
     ]
    }
   ],
   "source": [
    "lr = 0.001\n",
    "aux_loss = True \n",
    "epochs = 30\n",
    "\n",
    "training_losses, training_acc = train_siamese(model2, train_dataloader, epochs, lr, aux_loss)"
   ]
  },
  {
   "cell_type": "code",
   "execution_count": 15,
   "metadata": {},
   "outputs": [
    {
     "data": {
      "image/png": "[encoded data removed]",
      "text/plain": [
       "<Figure size 432x288 with 1 Axes>"
      ]
     },
     "metadata": {
      "needs_background": "light"
     },
     "output_type": "display_data"
    }
   ],
   "source": [
    "plt.plot(training_losses)\n",
    "plt.title('Training Binary Cross Entropy Loss')\n",
    "plt.xlabel(\"Epochs\")\n",
    "plt.ylabel(\"BCE\")\n",
    "plt.show()"
   ]
  },
  {
   "cell_type": "code",
   "execution_count": 16,
   "metadata": {},
   "outputs": [
    {
     "data": {
      "image/png": "[encoded data removed]",
      "text/plain": [
       "<Figure size 432x288 with 1 Axes>"
      ]
     },
     "metadata": {
      "needs_background": "light"
     },
     "output_type": "display_data"
    }
   ],
   "source": [
    "plt.plot(training_acc)\n",
    "plt.title('Training accuracy')\n",
    "plt.xlabel(\"Epochs\")\n",
    "plt.ylabel(\"accuracy\")\n",
    "plt.show()"
   ]
  },
  {
   "cell_type": "code",
   "execution_count": 19,
   "metadata": {},
   "outputs": [
    {
     "name": "stdout",
     "output_type": "stream",
     "text": [
      "On the test set we obtain a loss of 0.56 and an accuracy of 0.83\n"
     ]
    }
   ],
   "source": [
    "test_loss ,test_acc = test_siamese(model2, test_dataloader, aux_loss = True)\n",
    "print(\"On the test set we obtain a loss of {:.2f} and an accuracy of {:.2f}\".format(test_loss,test_acc))"
   ]
  },
  {
   "cell_type": "markdown",
   "metadata": {},
   "source": [
    "**Option 4:**  Weight Sharing, auxilary function"
   ]
  },
  {
   "cell_type": "code",
   "execution_count": 13,
   "metadata": {},
   "outputs": [],
   "source": [
    "model2 = siamese_net(weight_sharing = True , architecture = 1)"
   ]
  },
  {
   "cell_type": "code",
   "execution_count": 14,
   "metadata": {},
   "outputs": [
    {
     "name": "stdout",
     "output_type": "stream",
     "text": [
      "Start training with 25 epochs, a learning rate of 0.001 and BCELoss() as loss function\n",
      "With auxilary loss function\n",
      "With weight sharing\n",
      "[Epoch 1, Batch 0/1000]:  [Loss: 2.37]\n",
      "[Epoch 1, Batch 250/1000]:  [Loss: 3.61]\n",
      "[Epoch 1, Batch 500/1000]:  [Loss: 0.66]\n",
      "[Epoch 1, Batch 750/1000]:  [Loss: 2.07]\n",
      "At epoch 1 the loss is 1.5112308263778687\n",
      "At epoch 1 the accuracy is 0.692\n",
      "[Epoch 2, Batch 0/1000]:  [Loss: 1.76]\n",
      "[Epoch 2, Batch 250/1000]:  [Loss: 1.30]\n",
      "[Epoch 2, Batch 500/1000]:  [Loss: 0.37]\n",
      "[Epoch 2, Batch 750/1000]:  [Loss: 6.06]\n",
      "At epoch 2 the loss is 0.955042839050293\n",
      "At epoch 2 the accuracy is 0.787\n",
      "[Epoch 3, Batch 0/1000]:  [Loss: 0.66]\n",
      "[Epoch 3, Batch 250/1000]:  [Loss: 3.62]\n",
      "[Epoch 3, Batch 500/1000]:  [Loss: 0.61]\n",
      "[Epoch 3, Batch 750/1000]:  [Loss: 0.58]\n",
      "At epoch 3 the loss is 0.7535243034362793\n",
      "At epoch 3 the accuracy is 0.825\n",
      "[Epoch 4, Batch 0/1000]:  [Loss: 2.42]\n",
      "[Epoch 4, Batch 250/1000]:  [Loss: 0.10]\n",
      "[Epoch 4, Batch 500/1000]:  [Loss: 0.43]\n",
      "[Epoch 4, Batch 750/1000]:  [Loss: 2.62]\n",
      "At epoch 4 the loss is 0.6236382722854614\n",
      "At epoch 4 the accuracy is 0.847\n",
      "[Epoch 5, Batch 0/1000]:  [Loss: 0.00]\n",
      "[Epoch 5, Batch 250/1000]:  [Loss: 0.00]\n",
      "[Epoch 5, Batch 500/1000]:  [Loss: 0.04]\n",
      "[Epoch 5, Batch 750/1000]:  [Loss: 1.04]\n",
      "At epoch 5 the loss is 0.5268874168395996\n",
      "At epoch 5 the accuracy is 0.87\n",
      "[Epoch 6, Batch 0/1000]:  [Loss: 0.10]\n",
      "[Epoch 6, Batch 250/1000]:  [Loss: 0.33]\n",
      "[Epoch 6, Batch 500/1000]:  [Loss: 0.02]\n",
      "[Epoch 6, Batch 750/1000]:  [Loss: 0.02]\n",
      "At epoch 6 the loss is 0.4452359676361084\n",
      "At epoch 6 the accuracy is 0.906\n",
      "[Epoch 7, Batch 0/1000]:  [Loss: 0.01]\n",
      "[Epoch 7, Batch 250/1000]:  [Loss: 1.70]\n",
      "[Epoch 7, Batch 500/1000]:  [Loss: 0.01]\n",
      "[Epoch 7, Batch 750/1000]:  [Loss: 0.36]\n",
      "At epoch 7 the loss is 0.3449022173881531\n",
      "At epoch 7 the accuracy is 0.933\n",
      "[Epoch 8, Batch 0/1000]:  [Loss: 0.20]\n",
      "[Epoch 8, Batch 250/1000]:  [Loss: 0.01]\n",
      "[Epoch 8, Batch 500/1000]:  [Loss: 0.05]\n",
      "[Epoch 8, Batch 750/1000]:  [Loss: 0.01]\n",
      "At epoch 8 the loss is 0.25020092725753784\n",
      "At epoch 8 the accuracy is 0.946\n",
      "[Epoch 9, Batch 0/1000]:  [Loss: 0.00]\n",
      "[Epoch 9, Batch 250/1000]:  [Loss: 0.22]\n",
      "[Epoch 9, Batch 500/1000]:  [Loss: 0.00]\n",
      "[Epoch 9, Batch 750/1000]:  [Loss: 0.13]\n",
      "At epoch 9 the loss is 0.20943498611450195\n",
      "At epoch 9 the accuracy is 0.973\n",
      "[Epoch 10, Batch 0/1000]:  [Loss: 0.02]\n",
      "[Epoch 10, Batch 250/1000]:  [Loss: 0.12]\n",
      "[Epoch 10, Batch 500/1000]:  [Loss: 0.02]\n",
      "[Epoch 10, Batch 750/1000]:  [Loss: 0.00]\n",
      "At epoch 10 the loss is 0.18766330182552338\n",
      "At epoch 10 the accuracy is 0.969\n",
      "[Epoch 11, Batch 0/1000]:  [Loss: 0.00]\n",
      "[Epoch 11, Batch 250/1000]:  [Loss: 0.34]\n",
      "[Epoch 11, Batch 500/1000]:  [Loss: 0.36]\n",
      "[Epoch 11, Batch 750/1000]:  [Loss: 0.00]\n",
      "At epoch 11 the loss is 0.12963218986988068\n",
      "At epoch 11 the accuracy is 0.99\n",
      "[Epoch 12, Batch 0/1000]:  [Loss: 0.17]\n",
      "[Epoch 12, Batch 250/1000]:  [Loss: 0.00]\n",
      "[Epoch 12, Batch 500/1000]:  [Loss: 0.01]\n",
      "[Epoch 12, Batch 750/1000]:  [Loss: 0.00]\n",
      "At epoch 12 the loss is 0.1449141949415207\n",
      "At epoch 12 the accuracy is 0.987\n",
      "[Epoch 13, Batch 0/1000]:  [Loss: 0.00]\n",
      "[Epoch 13, Batch 250/1000]:  [Loss: 0.03]\n",
      "[Epoch 13, Batch 500/1000]:  [Loss: 0.01]\n",
      "[Epoch 13, Batch 750/1000]:  [Loss: 0.00]\n",
      "At epoch 13 the loss is 0.1176266297698021\n",
      "At epoch 13 the accuracy is 0.989\n",
      "[Epoch 14, Batch 0/1000]:  [Loss: 0.02]\n",
      "[Epoch 14, Batch 250/1000]:  [Loss: 0.00]\n",
      "[Epoch 14, Batch 500/1000]:  [Loss: 0.00]\n",
      "[Epoch 14, Batch 750/1000]:  [Loss: 0.00]\n",
      "At epoch 14 the loss is 0.09216941148042679\n",
      "At epoch 14 the accuracy is 0.995\n",
      "[Epoch 15, Batch 0/1000]:  [Loss: 0.00]\n",
      "[Epoch 15, Batch 250/1000]:  [Loss: 0.66]\n",
      "[Epoch 15, Batch 500/1000]:  [Loss: 0.15]\n",
      "[Epoch 15, Batch 750/1000]:  [Loss: 0.00]\n",
      "At epoch 15 the loss is 0.05776458606123924\n",
      "At epoch 15 the accuracy is 1.0\n",
      "[Epoch 16, Batch 0/1000]:  [Loss: 0.03]\n",
      "[Epoch 16, Batch 250/1000]:  [Loss: 0.08]\n",
      "[Epoch 16, Batch 500/1000]:  [Loss: 0.02]\n",
      "[Epoch 16, Batch 750/1000]:  [Loss: 0.00]\n",
      "At epoch 16 the loss is 0.04904387518763542\n",
      "At epoch 16 the accuracy is 1.0\n",
      "[Epoch 17, Batch 0/1000]:  [Loss: 0.00]\n",
      "[Epoch 17, Batch 250/1000]:  [Loss: 0.01]\n",
      "[Epoch 17, Batch 500/1000]:  [Loss: 0.00]\n",
      "[Epoch 17, Batch 750/1000]:  [Loss: 0.10]\n",
      "At epoch 17 the loss is 0.04231409355998039\n",
      "At epoch 17 the accuracy is 1.0\n",
      "[Epoch 18, Batch 0/1000]:  [Loss: 0.00]\n",
      "[Epoch 18, Batch 250/1000]:  [Loss: 0.04]\n",
      "[Epoch 18, Batch 500/1000]:  [Loss: 0.00]\n",
      "[Epoch 18, Batch 750/1000]:  [Loss: 0.25]\n",
      "At epoch 18 the loss is 0.0360434353351593\n",
      "At epoch 18 the accuracy is 1.0\n",
      "[Epoch 19, Batch 0/1000]:  [Loss: 0.00]\n",
      "[Epoch 19, Batch 250/1000]:  [Loss: 0.25]\n",
      "[Epoch 19, Batch 500/1000]:  [Loss: 0.03]\n",
      "[Epoch 19, Batch 750/1000]:  [Loss: 0.00]\n",
      "At epoch 19 the loss is 0.03172214701771736\n",
      "At epoch 19 the accuracy is 1.0\n",
      "[Epoch 20, Batch 0/1000]:  [Loss: 0.05]\n",
      "[Epoch 20, Batch 250/1000]:  [Loss: 0.00]\n",
      "[Epoch 20, Batch 500/1000]:  [Loss: 0.00]\n",
      "[Epoch 20, Batch 750/1000]:  [Loss: 0.00]\n",
      "At epoch 20 the loss is 0.03580886870622635\n",
      "At epoch 20 the accuracy is 0.997\n",
      "[Epoch 21, Batch 0/1000]:  [Loss: 0.01]\n",
      "[Epoch 21, Batch 250/1000]:  [Loss: 0.00]\n",
      "[Epoch 21, Batch 500/1000]:  [Loss: 0.00]\n",
      "[Epoch 21, Batch 750/1000]:  [Loss: 0.00]\n",
      "At epoch 21 the loss is 0.025236627086997032\n",
      "At epoch 21 the accuracy is 1.0\n",
      "[Epoch 22, Batch 0/1000]:  [Loss: 0.00]\n",
      "[Epoch 22, Batch 250/1000]:  [Loss: 0.01]\n",
      "[Epoch 22, Batch 500/1000]:  [Loss: 0.00]\n",
      "[Epoch 22, Batch 750/1000]:  [Loss: 0.01]\n",
      "At epoch 22 the loss is 0.020972032099962234\n",
      "At epoch 22 the accuracy is 1.0\n",
      "[Epoch 23, Batch 0/1000]:  [Loss: 0.12]\n",
      "[Epoch 23, Batch 250/1000]:  [Loss: 0.00]\n",
      "[Epoch 23, Batch 500/1000]:  [Loss: 0.00]\n",
      "[Epoch 23, Batch 750/1000]:  [Loss: 0.02]\n",
      "At epoch 23 the loss is 0.018782055005431175\n",
      "At epoch 23 the accuracy is 1.0\n",
      "[Epoch 24, Batch 0/1000]:  [Loss: 0.00]\n",
      "[Epoch 24, Batch 250/1000]:  [Loss: 0.00]\n",
      "[Epoch 24, Batch 500/1000]:  [Loss: 0.00]\n",
      "[Epoch 24, Batch 750/1000]:  [Loss: 0.00]\n",
      "At epoch 24 the loss is 0.01714489236474037\n",
      "At epoch 24 the accuracy is 1.0\n",
      "[Epoch 25, Batch 0/1000]:  [Loss: 0.00]\n",
      "[Epoch 25, Batch 250/1000]:  [Loss: 0.00]\n",
      "[Epoch 25, Batch 500/1000]:  [Loss: 0.00]\n",
      "[Epoch 25, Batch 750/1000]:  [Loss: 0.00]\n",
      "At epoch 25 the loss is 0.014899291098117828\n",
      "At epoch 25 the accuracy is 1.0\n"
     ]
    }
   ],
   "source": [
    "lr = 0.001\n",
    "aux_loss = True \n",
    "epochs = 20\n",
    "\n",
    "training_losses, training_acc = train_siamese(model2, train_dataloader, epochs, lr, aux_loss)"
   ]
  },
  {
   "cell_type": "code",
   "execution_count": 15,
   "metadata": {},
   "outputs": [
    {
     "data": {
      "image/png": "[encoded data removed]",
      "text/plain": [
       "<Figure size 432x288 with 1 Axes>"
      ]
     },
     "metadata": {
      "needs_background": "light"
     },
     "output_type": "display_data"
    }
   ],
   "source": [
    "plt.plot(training_losses)\n",
    "plt.title('Training Binary Cross Entropy Loss')\n",
    "plt.xlabel(\"Epochs\")\n",
    "plt.ylabel(\"BCE\")\n",
    "plt.show()"
   ]
  },
  {
   "cell_type": "code",
   "execution_count": 16,
   "metadata": {},
   "outputs": [
    {
     "data": {
      "image/png": "[encoded data removed]",
      "text/plain": [
       "<Figure size 432x288 with 1 Axes>"
      ]
     },
     "metadata": {
      "needs_background": "light"
     },
     "output_type": "display_data"
    }
   ],
   "source": [
    "plt.plot(training_acc)\n",
    "plt.title('Training accuracy')\n",
    "plt.xlabel(\"Epochs\")\n",
    "plt.ylabel(\"accuracy\")\n",
    "plt.show()"
   ]
  },
  {
   "cell_type": "code",
   "execution_count": 17,
   "metadata": {},
   "outputs": [
    {
     "name": "stdout",
     "output_type": "stream",
     "text": [
      "On the test set we obtain a loss of nan and an accuracy of 0.86\n"
     ]
    }
   ],
   "source": [
    "test_loss ,test_acc = test_siamese(model2, test_dataloader, aux_loss = True)\n",
    "print(\"On the test set we obtain a loss of {:.2f} and an accuracy of {:.2f}\".format(test_loss,test_acc))"
   ]
  },
  {
   "cell_type": "markdown",
   "metadata": {},
   "source": [
    "### Architecture 2"
   ]
  },
  {
   "cell_type": "code",
   "execution_count": 8,
   "metadata": {},
   "outputs": [],
   "source": [
    "model2 = siamese_net(weight_sharing = True , architecture = 2)"
   ]
  },
  {
   "cell_type": "code",
   "execution_count": 11,
   "metadata": {},
   "outputs": [],
   "source": [
    "TRAIN_BATCH_SIZE = 1\n",
    "CRITERION_DOUBLE = nn.BCELoss()\n",
    "CRITERION_SINGLE = nn.BCELoss()\n",
    "EPOCHS = 20\n",
    "LEARNING_RATE = 0.001"
   ]
  },
  {
   "cell_type": "code",
   "execution_count": null,
   "metadata": {},
   "outputs": [],
   "source": [
    "lr = 0.001\n",
    "aux_loss = True \n",
    "epochs = 20\n",
    "\n",
    "training_losses, training_acc = train_siamese(model2, train_dataloader, epochs, lr, aux_loss)"
   ]
  },
  {
   "cell_type": "code",
   "execution_count": 9,
   "metadata": {
    "scrolled": true
   },
   "outputs": [
    {
     "name": "stdout",
     "output_type": "stream",
     "text": [
      "Start training with 20 epochs, a learning rate of 0.001 and BCELoss() as loss function\n",
      "With auxilary loss function\n",
      "With weight sharing\n",
      "[Epoch 1, Batch 0/1000]:  [Loss: 19.57]\n",
      "[Epoch 1, Batch 250/1000]:  [Loss: 5.01]\n",
      "[Epoch 1, Batch 500/1000]:  [Loss: 0.24]\n",
      "[Epoch 1, Batch 750/1000]:  [Loss: 0.07]\n",
      "At epoch 1 the loss is 1.6447360515594482\n",
      "At epoch 1 the accuracy is 0.721\n",
      "[Epoch 2, Batch 0/1000]:  [Loss: 5.12]\n",
      "[Epoch 2, Batch 250/1000]:  [Loss: 0.86]\n",
      "[Epoch 2, Batch 500/1000]:  [Loss: 0.17]\n",
      "[Epoch 2, Batch 750/1000]:  [Loss: 0.14]\n",
      "At epoch 2 the loss is 0.7723385095596313\n",
      "At epoch 2 the accuracy is 0.84\n",
      "[Epoch 3, Batch 0/1000]:  [Loss: 0.02]\n",
      "[Epoch 3, Batch 250/1000]:  [Loss: 0.29]\n",
      "[Epoch 3, Batch 500/1000]:  [Loss: 2.21]\n",
      "[Epoch 3, Batch 750/1000]:  [Loss: 0.29]\n",
      "At epoch 3 the loss is 0.5361893177032471\n",
      "At epoch 3 the accuracy is 0.887\n",
      "[Epoch 4, Batch 0/1000]:  [Loss: 0.13]\n",
      "[Epoch 4, Batch 250/1000]:  [Loss: 0.00]\n",
      "[Epoch 4, Batch 500/1000]:  [Loss: 0.05]\n",
      "[Epoch 4, Batch 750/1000]:  [Loss: 0.62]\n",
      "At epoch 4 the loss is 0.435069739818573\n",
      "At epoch 4 the accuracy is 0.919\n",
      "[Epoch 5, Batch 0/1000]:  [Loss: 0.25]\n",
      "[Epoch 5, Batch 250/1000]:  [Loss: 0.01]\n",
      "[Epoch 5, Batch 500/1000]:  [Loss: 0.51]\n",
      "[Epoch 5, Batch 750/1000]:  [Loss: 0.87]\n",
      "At epoch 5 the loss is 0.34368687868118286\n",
      "At epoch 5 the accuracy is 0.937\n",
      "[Epoch 6, Batch 0/1000]:  [Loss: 0.06]\n",
      "[Epoch 6, Batch 250/1000]:  [Loss: 0.07]\n",
      "[Epoch 6, Batch 500/1000]:  [Loss: 0.02]\n",
      "[Epoch 6, Batch 750/1000]:  [Loss: 0.00]\n",
      "At epoch 6 the loss is 0.2559995651245117\n",
      "At epoch 6 the accuracy is 0.96\n",
      "[Epoch 7, Batch 0/1000]:  [Loss: 0.15]\n",
      "[Epoch 7, Batch 250/1000]:  [Loss: 0.02]\n",
      "[Epoch 7, Batch 500/1000]:  [Loss: 0.01]\n",
      "[Epoch 7, Batch 750/1000]:  [Loss: 0.36]\n",
      "At epoch 7 the loss is 0.18757213652133942\n",
      "At epoch 7 the accuracy is 0.98\n",
      "[Epoch 8, Batch 0/1000]:  [Loss: 0.01]\n",
      "[Epoch 8, Batch 250/1000]:  [Loss: 0.00]\n",
      "[Epoch 8, Batch 500/1000]:  [Loss: 0.00]\n",
      "[Epoch 8, Batch 750/1000]:  [Loss: 0.01]\n",
      "At epoch 8 the loss is 0.12102429568767548\n",
      "At epoch 8 the accuracy is 0.986\n",
      "[Epoch 9, Batch 0/1000]:  [Loss: 0.02]\n",
      "[Epoch 9, Batch 250/1000]:  [Loss: 0.00]\n",
      "[Epoch 9, Batch 500/1000]:  [Loss: 0.00]\n",
      "[Epoch 9, Batch 750/1000]:  [Loss: 0.13]\n",
      "At epoch 9 the loss is 0.12607701122760773\n",
      "At epoch 9 the accuracy is 0.976\n",
      "[Epoch 10, Batch 0/1000]:  [Loss: 0.00]\n",
      "[Epoch 10, Batch 250/1000]:  [Loss: 0.00]\n",
      "[Epoch 10, Batch 500/1000]:  [Loss: 0.00]\n",
      "[Epoch 10, Batch 750/1000]:  [Loss: 0.00]\n",
      "At epoch 10 the loss is 0.074135921895504\n",
      "At epoch 10 the accuracy is 0.988\n",
      "[Epoch 11, Batch 0/1000]:  [Loss: 0.00]\n",
      "[Epoch 11, Batch 250/1000]:  [Loss: 0.00]\n",
      "[Epoch 11, Batch 500/1000]:  [Loss: 0.01]\n",
      "[Epoch 11, Batch 750/1000]:  [Loss: 0.04]\n",
      "At epoch 11 the loss is 0.053699791431427\n",
      "At epoch 11 the accuracy is 0.993\n",
      "[Epoch 12, Batch 0/1000]:  [Loss: 0.07]\n",
      "[Epoch 12, Batch 250/1000]:  [Loss: 0.00]\n",
      "[Epoch 12, Batch 500/1000]:  [Loss: 0.01]\n",
      "[Epoch 12, Batch 750/1000]:  [Loss: 0.00]\n",
      "At epoch 12 the loss is 0.013226696290075779\n",
      "At epoch 12 the accuracy is 1.0\n",
      "[Epoch 13, Batch 0/1000]:  [Loss: 0.00]\n",
      "[Epoch 13, Batch 250/1000]:  [Loss: 0.00]\n",
      "[Epoch 13, Batch 500/1000]:  [Loss: 0.00]\n",
      "[Epoch 13, Batch 750/1000]:  [Loss: 0.00]\n",
      "At epoch 13 the loss is 0.005172322504222393\n",
      "At epoch 13 the accuracy is 1.0\n",
      "[Epoch 14, Batch 0/1000]:  [Loss: 0.00]\n",
      "[Epoch 14, Batch 250/1000]:  [Loss: 0.00]\n",
      "[Epoch 14, Batch 500/1000]:  [Loss: 0.00]\n",
      "[Epoch 14, Batch 750/1000]:  [Loss: 0.00]\n",
      "At epoch 14 the loss is 0.0026519810780882835\n",
      "At epoch 14 the accuracy is 1.0\n",
      "[Epoch 15, Batch 0/1000]:  [Loss: 0.00]\n",
      "[Epoch 15, Batch 250/1000]:  [Loss: 0.00]\n",
      "[Epoch 15, Batch 500/1000]:  [Loss: 0.00]\n",
      "[Epoch 15, Batch 750/1000]:  [Loss: 0.00]\n",
      "At epoch 15 the loss is 0.007368588820099831\n",
      "At epoch 15 the accuracy is 1.0\n",
      "[Epoch 16, Batch 0/1000]:  [Loss: 0.00]\n",
      "[Epoch 16, Batch 250/1000]:  [Loss: 0.00]\n",
      "[Epoch 16, Batch 500/1000]:  [Loss: 0.00]\n",
      "[Epoch 16, Batch 750/1000]:  [Loss: 0.00]\n",
      "At epoch 16 the loss is 0.008985153399407864\n",
      "At epoch 16 the accuracy is 1.0\n",
      "[Epoch 17, Batch 0/1000]:  [Loss: 0.00]\n",
      "[Epoch 17, Batch 250/1000]:  [Loss: 0.00]\n",
      "[Epoch 17, Batch 500/1000]:  [Loss: 0.00]\n",
      "[Epoch 17, Batch 750/1000]:  [Loss: 0.16]\n",
      "At epoch 17 the loss is 0.009522161446511745\n",
      "At epoch 17 the accuracy is 0.998\n",
      "[Epoch 18, Batch 0/1000]:  [Loss: 0.00]\n",
      "[Epoch 18, Batch 250/1000]:  [Loss: 0.00]\n",
      "[Epoch 18, Batch 500/1000]:  [Loss: 0.00]\n",
      "[Epoch 18, Batch 750/1000]:  [Loss: 0.00]\n",
      "At epoch 18 the loss is 0.026717593893408775\n",
      "At epoch 18 the accuracy is 0.994\n",
      "[Epoch 19, Batch 0/1000]:  [Loss: 0.00]\n",
      "[Epoch 19, Batch 250/1000]:  [Loss: 0.00]\n",
      "[Epoch 19, Batch 500/1000]:  [Loss: 0.00]\n",
      "[Epoch 19, Batch 750/1000]:  [Loss: 0.00]\n",
      "At epoch 19 the loss is 0.010615820996463299\n",
      "At epoch 19 the accuracy is 0.997\n",
      "[Epoch 20, Batch 0/1000]:  [Loss: 0.00]\n",
      "[Epoch 20, Batch 250/1000]:  [Loss: 0.00]\n",
      "[Epoch 20, Batch 500/1000]:  [Loss: 0.00]\n",
      "[Epoch 20, Batch 750/1000]:  [Loss: 0.00]\n",
      "At epoch 20 the loss is 0.0010022601345553994\n",
      "At epoch 20 the accuracy is 1.0\n"
     ]
    }
   ],
   "source": [
    "lr = 0.001\n",
    "aux_loss = True \n",
    "epochs = 20\n",
    "\n",
    "training_losses, training_acc = train_siamese(model2, train_dataloader, epochs, lr, aux_loss)"
   ]
  },
  {
   "cell_type": "code",
   "execution_count": 10,
   "metadata": {},
   "outputs": [
    {
     "name": "stdout",
     "output_type": "stream",
     "text": [
      "On the test set we obtain a loss of nan and an accuracy of 0.94\n"
     ]
    }
   ],
   "source": [
    "test_loss ,test_acc = test_siamese(model2, test_dataloader, aux_loss = True)\n",
    "print(\"On the test set we obtain a loss of {:.2f} and an accuracy of {:.2f}\".format(test_loss,test_acc))"
   ]
  },
  {
   "cell_type": "markdown",
   "metadata": {},
   "source": [
    "### Brouillon"
   ]
  },
  {
   "cell_type": "markdown",
   "metadata": {},
   "source": [
    "To keep in mind after a conv layer we get : (W - F + 2P)/S + 1"
   ]
  },
  {
   "cell_type": "code",
   "execution_count": null,
   "metadata": {},
   "outputs": [],
   "source": [
    "elem = next(iter(train_dataloader))['digit_labels']"
   ]
  },
  {
   "cell_type": "code",
   "execution_count": null,
   "metadata": {},
   "outputs": [],
   "source": [
    "elem"
   ]
  },
  {
   "cell_type": "code",
   "execution_count": null,
   "metadata": {},
   "outputs": [],
   "source": [
    "next(iter(train_dataloader))['images'].shape"
   ]
  },
  {
   "cell_type": "code",
   "execution_count": null,
   "metadata": {},
   "outputs": [],
   "source": [
    "plt.imshow(elem[0,0,:,:], cmap='gray')"
   ]
  },
  {
   "cell_type": "code",
   "execution_count": null,
   "metadata": {},
   "outputs": [],
   "source": [
    "plt.imshow(elem[0,1,:,:], cmap='gray')"
   ]
  },
  {
   "cell_type": "code",
   "execution_count": null,
   "metadata": {},
   "outputs": [],
   "source": [
    "model = BasicNet()\n",
    "\n",
    "train(model=model, dataloader=train_dataloader, epochs=config.EPOCHS, criterion=config.CRITERION)"
   ]
  },
  {
   "cell_type": "code",
   "execution_count": null,
   "metadata": {},
   "outputs": [],
   "source": [
    "predicted, accuracy = predict(model=model, dataloader=test_dataloader)"
   ]
  },
  {
   "cell_type": "code",
   "execution_count": null,
   "metadata": {},
   "outputs": [],
   "source": [
    "print(accuracy)"
   ]
  }
 ],
 "metadata": {
  "kernelspec": {
   "display_name": "Python 3",
   "language": "python",
   "name": "python3"
  },
  "language_info": {
   "codemirror_mode": {
    "name": "ipython",
    "version": 3
   },
   "file_extension": ".py",
   "mimetype": "text/x-python",
   "name": "python",
   "nbconvert_exporter": "python",
   "pygments_lexer": "ipython3",
   "version": "3.6.10"
  }
 },
 "nbformat": 4,
 "nbformat_minor": 4
}
